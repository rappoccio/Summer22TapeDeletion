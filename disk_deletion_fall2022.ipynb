{
 "cells": [
  {
   "cell_type": "code",
   "execution_count": 1,
   "id": "2eaf0688",
   "metadata": {},
   "outputs": [],
   "source": [
    "import pandas as pd\n",
    "import numpy as np\n",
    "import copy "
   ]
  },
  {
   "cell_type": "code",
   "execution_count": 2,
   "id": "89e7dbe2",
   "metadata": {},
   "outputs": [],
   "source": [
    "df = pd.read_csv(\"not_accessed_not_expiring_2022_10_14_w_r.csv\")"
   ]
  },
  {
   "cell_type": "code",
   "execution_count": 3,
   "id": "2f6dd36d",
   "metadata": {},
   "outputs": [],
   "source": [
    "datasets = df[\"dataset\"]\n",
    "location = df[\"RSE Name\"]\n",
    "size_on_tape = df[\"dataset_size_in_rse_tb\"]\n",
    "tier = [ i[-1] for i in df[\"dataset\"].str.split(\"/\").tolist() ]"
   ]
  },
  {
   "cell_type": "code",
   "execution_count": 4,
   "id": "b9ff84b1",
   "metadata": {},
   "outputs": [],
   "source": [
    "exceptions = pd.read_csv(\"exceptions.txt\")"
   ]
  },
  {
   "cell_type": "code",
   "execution_count": 5,
   "id": "0eff76fb",
   "metadata": {},
   "outputs": [],
   "source": [
    "exception_list = exceptions[\"item\"]"
   ]
  },
  {
   "cell_type": "markdown",
   "id": "a0ec5831",
   "metadata": {},
   "source": [
    "## Total size on tape"
   ]
  },
  {
   "cell_type": "code",
   "execution_count": 6,
   "id": "554f510e",
   "metadata": {
    "scrolled": true
   },
   "outputs": [
    {
     "data": {
      "text/plain": [
       "19915.4273"
      ]
     },
     "execution_count": 6,
     "metadata": {},
     "output_type": "execute_result"
    }
   ],
   "source": [
    "np.sum(size_on_tape)"
   ]
  },
  {
   "cell_type": "code",
   "execution_count": 7,
   "id": "d403104c",
   "metadata": {},
   "outputs": [],
   "source": [
    "keep = np.full( np.size(datasets), False )"
   ]
  },
  {
   "cell_type": "markdown",
   "id": "6440226b",
   "metadata": {},
   "source": [
    "## Breakdown of campaign to \"human readable\" format"
   ]
  },
  {
   "cell_type": "code",
   "execution_count": 8,
   "id": "f4cfd6c3",
   "metadata": {},
   "outputs": [],
   "source": [
    "categories = {\n",
    "\n",
    "    \"Skims\":[\"USER\"],\n",
    "    \"Commissioning + Cosmics\":[\n",
    "       \"Commissioning08\",     \n",
    "       \"Commissioning10\",  \n",
    "       \"Commissioning11\",  \n",
    "       \"Commissioning12\",  \n",
    "       \"Commissioning2015\",\n",
    "       \"Commissioning2017\",\n",
    "       \"Commissioning2018\",\n",
    "       \"Commissioning2021\",\n",
    "       \"Commissioning2022\",\n",
    "    ],\n",
    "    \n",
    "    \"Cosmics MC\":[\n",
    "        \"RunIISpring18CosmicDR\"\n",
    "    ],\n",
    "        \n",
    "    \"Run 3\":[\n",
    "        \"Run3Summer19DRPremix\",       \n",
    "        \"Run3Summer19DR\",  \n",
    "        \"Run3Winter20\",\n",
    "        \"Run3Winter20DRPremixMiniAOD\",\n",
    "        \"Run3Winter21DRMiniAOD\",      \n",
    "        \"Run3Summer21\",               \n",
    "        \"Run3Winter21\",               \n",
    "        \"Run3Summer21GS\",             \n",
    "        \"Run3Summer21PrePremix\",      \n",
    "        \"Run3Summer21wmLHEGS\",        \n",
    "        \"Run3Summer22\",                  \n",
    "    ],\n",
    "    \n",
    "    \"Run 2 legacy MC\":[\n",
    "        \"Summer19UL\",\n",
    "        \"Summer20UL\",\n",
    "        \"Spring21UL\",\n",
    "    ],\n",
    "    \n",
    "    \"Run 2 legacy data\":[\n",
    "        \"UL2016\",\n",
    "        \"UL2017\",\n",
    "        \"UL2018\",\n",
    "    ],\n",
    "    \n",
    "    \"Run 2 pre-legacy data\":[\n",
    "        \"23Sep2016\",\n",
    "        \"18Apr2017\",\n",
    "        \"07Aug17\",\n",
    "        \"12Sep2017\",\n",
    "        \"17Nov2017\",\n",
    "        \"09May2018\",\n",
    "        \"06Jun2018\",\n",
    "        \"17Sep2018\",\n",
    "        \"22Jan2019\",\n",
    "        \"Run2018D-PromptReco\",\n",
    "        \"RunIIWinter17DR\",\n",
    "    ],\n",
    "\n",
    "    \"Run 2 pre-legacy MC\":[\n",
    "        \"RunIISpring15PrePremix\",    \n",
    "        \"RunIIFall15DR76\",           \n",
    "        \"RunIISummer16DR80\",         \n",
    "        \"RunIISummer16DR80Premix\",   \n",
    "        \"RunIIFall17GS\",             \n",
    "        \"RunIIFall17DRPremix\",       \n",
    "        \"RunIISummer17PrePremix\",    \n",
    "        \"RunIIFall17FSPremix\",       \n",
    "        \"RunIIFall17FSPrePremix\",    \n",
    "        \"RunIIFall18wmLHEGS\",        \n",
    "        \"RunIIFall18GS\",             \n",
    "        \"RunIIAutumn18DRPremix\",     \n",
    "        \"RunIIAutumn18DR\",           \n",
    "        \"RunIIAutumn18RECOBParking\", \n",
    "        \"RunIIAutumn18FSPremix\",        \n",
    "        \"RunIIWinter19PFCalib17wmLHEGS\",\n",
    "        \"RunIISpring18DRPremix\",        \n",
    "        \"RunIIFall17DRStdmix\",          \n",
    "        \"RunIISummer17DRStdmix\",        \n",
    "        \"RunIISpring18DR\",\n",
    "        \"RunIISpring18GS\",\n",
    "        \"RunIISpring15DR74\",            \n",
    "        \"RunIISummer16FSPremix\",        \n",
    "        \"RunIISummer15wmLHEGS\",         \n",
    "        \"RunIIWinter19CosmicDR\",        \n",
    "        \"RunIIFall17wmLHEGS\",           \n",
    "        \"RunIIWinter19PFCalib16wmLHEGS\",\n",
    "        \"RunIIFall17wmLHEGENOnly\",      \n",
    "        \"RunIIWinter15GS\",\n",
    "        \"RunIISpring16FSPremix\",\n",
    "        \"RunIIWinter19PFCalib16GS\",\n",
    "        \"RunIILowPUAutumn18GS\",\n",
    "        \"RunIIWinter19PFCalib\",\n",
    "        \"RunIISummer15\"\n",
    "    ],\n",
    "    \n",
    "    \"B-Parking\":[\n",
    "        \"ParkingBPH\",\n",
    "        \"SkimBPark\"\n",
    "    ],    \n",
    "    \n",
    "    \"HIN\":[\n",
    "        \"HIRun2010\", \n",
    "        \"HIRun2011\", \n",
    "        \"HIRun2013\", \n",
    "        \"HIRun2015\", \n",
    "        \"PARun2016\", \n",
    "        \"HIRun2018\", \n",
    "        \"HINPbPbAutumn18DR\",\n",
    "        \"HiWinter13\", \n",
    "        \"pPb816Summer16DR\",\n",
    "        \"HINPbPbWinter16DR\",\n",
    "        \"HiFall13DR53X\",\n",
    "        \"pAWinter13DR53X\",\n",
    "        \"XeXeRun2017\",\n",
    "        \"HIRun2013A\",\n",
    "        \"HINppWinter16DR\",\n",
    "        \"pPb816Spring16GS\",\n",
    "        \"HiFall13\",\n",
    "    ],\n",
    "\n",
    "    \"ALCA\":[\n",
    "        \"StreamExpressAlignment\",\n",
    "        \"TkAlCosmicsInCollisions\",\n",
    "        \"ALCARECO\"\n",
    "    ],\n",
    "    \n",
    "    \"DPOA\":[\n",
    "        \"LowPU2010\",\n",
    "        \"Run2010\",\n",
    "        \"Run2010\",\n",
    "        \"Run2010\",\n",
    "        \"Run2011\",\n",
    "        \"Run2011\",\n",
    "        \"Run2011\",\n",
    "        \"Run2012\",\n",
    "        \"Run2012\",\n",
    "        \"Summer11\",\n",
    "        \"Summer11Leg\",\n",
    "        \"Fall11\",\n",
    "        \"Summer11LegDR\",\n",
    "        \"Summer12DR53X\",\n",
    "        \"Summer11dr53X\",\n",
    "        \"Summer12_DR53X\",\n",
    "        \"Summer12\",\n",
    "        \"Summer12\",\n",
    "        \"Summer13dr53X\",\n",
    "        \"Run2015C_25ns\",\n",
    "        \"Run2015\",\n",
    "        \"Run2015\",\n",
    "    ],\n",
    "    \n",
    "    \"Upgrades\":[\n",
    "        \"Phase2HLTTDRWinter20DIGI\", \n",
    "        \"Phase2HLTTDRSummer20ReRECOMiniAOD\",\n",
    "        \"PhaseIITDRSpring17DR\", \n",
    "        \"PhaseIIFall16DR82\",\n",
    "        \"PhaseIISummer17wmLHEGENOnly\",\n",
    "        \"GEM2019Upg14DR\",\n",
    "        \"PhaseISpring17DR\", \n",
    "        \"PhaseIFall16DR\", \n",
    "        \"Phase2HLTTDRWinter20GS\",\n",
    "        \"PhaseIIMTDTDRAutumn18DR\",\n",
    "        \"PhaseIITDRSpring19DR\",\n",
    "        \"PhaseIITDRFall17GS\",\n",
    "        \"PhaseIITDRFall17DR\",\n",
    "        \"PhaseIISpr18AODMiniAOD\",\n",
    "        \"TP2023HGCAL\",\n",
    "        \"SHCAL2023Upg14\",\n",
    "        \"TP2023SHCALDR\",\n",
    "        \"PhaseIISummer17GenOnly\",\n",
    "        \"Phase2HLTTDRWinter20RECOMiniAOD\",\n",
    "        \"PhaseIIFall17D\",\n",
    "        \"Muon2023Upg14DR\",\n",
    "        \"RunIISummer15\",\n",
    "        \"RunIISpring16reHLT80\",\n",
    "        \"Upg2023SHCAL14\"\n",
    "    ],\n",
    "    \n",
    "\n",
    "\n",
    "    \n",
    "    \"Prompt\":[\n",
    "        \"Prompt\",\n",
    "    ],\n",
    "    \n",
    "    \"LHE\":[\n",
    "        \"LHE\",\n",
    "    ],\n",
    "    \n",
    "    \"Data challenges\":[\n",
    "        \"CONTAINER\"\n",
    "    ],\n",
    "\n",
    "    \"Miscellaneous\":[\n",
    "        \"CMSSW_1_3_2\",\n",
    "    ],\n",
    "}\n",
    "\n"
   ]
  },
  {
   "cell_type": "markdown",
   "id": "f41a7aaa",
   "metadata": {},
   "source": [
    "### List of all campaigns"
   ]
  },
  {
   "cell_type": "code",
   "execution_count": 9,
   "id": "8c161341",
   "metadata": {},
   "outputs": [],
   "source": [
    "campaign_list = []\n",
    "\n",
    "for vals in categories.values():\n",
    "    campaign_list = campaign_list + vals"
   ]
  },
  {
   "cell_type": "markdown",
   "id": "b0cef707",
   "metadata": {},
   "source": [
    "### Map of campaigns to the category they belong to"
   ]
  },
  {
   "cell_type": "code",
   "execution_count": 10,
   "id": "796d2205",
   "metadata": {},
   "outputs": [],
   "source": [
    "cats_map = {}\n",
    "for val in campaign_list: \n",
    "    for cat in categories:\n",
    "        if val in categories[cat]:\n",
    "            cats_map[val] = cat"
   ]
  },
  {
   "cell_type": "markdown",
   "id": "6f8c5f7a",
   "metadata": {},
   "source": [
    "### Map of datasets to the category they belong to"
   ]
  },
  {
   "cell_type": "code",
   "execution_count": 11,
   "id": "127ff178",
   "metadata": {},
   "outputs": [],
   "source": [
    "dataset_categories = []\n",
    "for dataset in datasets:\n",
    "    found = False\n",
    "    for category in categories: \n",
    "        for campaign in categories[category]:\n",
    "            if campaign in dataset and not found: \n",
    "                dataset_categories.append(category)\n",
    "                found = True\n",
    "    if not found:\n",
    "        dataset_categories.append(\"Miscellaneous\")"
   ]
  },
  {
   "cell_type": "code",
   "execution_count": 12,
   "id": "9560a268",
   "metadata": {},
   "outputs": [],
   "source": [
    "df['category'] = dataset_categories"
   ]
  },
  {
   "cell_type": "code",
   "execution_count": 13,
   "id": "3f2bc1ba",
   "metadata": {},
   "outputs": [
    {
     "name": "stdout",
     "output_type": "stream",
     "text": [
      "                         Skims :        150.4\n",
      "       Commissioning + Cosmics :        557.9\n",
      "                    Cosmics MC :          0.0\n",
      "                         Run 3 :        463.4\n",
      "               Run 2 legacy MC :       1249.8\n",
      "             Run 2 legacy data :       2626.4\n",
      "         Run 2 pre-legacy data :       1857.8\n",
      "           Run 2 pre-legacy MC :       1616.4\n",
      "                     B-Parking :        199.8\n",
      "                           HIN :       1980.9\n",
      "                          ALCA :        205.2\n",
      "                          DPOA :       2583.3\n",
      "                      Upgrades :       1217.9\n",
      "                        Prompt :        549.1\n",
      "                           LHE :        188.9\n",
      "               Data challenges :          0.0\n",
      "                 Miscellaneous :       4468.4\n"
     ]
    }
   ],
   "source": [
    "for category in categories:\n",
    "    isum = np.sum( df[ df[\"category\"] == category][\"dataset_size_in_rse_tb\"] )\n",
    "    print( \"%30s : %12.1f\" % ( category, isum ) )"
   ]
  },
  {
   "cell_type": "markdown",
   "id": "31f46448",
   "metadata": {},
   "source": [
    "## Decide which datasets to delete and keep"
   ]
  },
  {
   "cell_type": "markdown",
   "id": "859af69b",
   "metadata": {},
   "source": [
    "#### Specific exceptions"
   ]
  },
  {
   "cell_type": "code",
   "execution_count": 14,
   "id": "22a74a1d",
   "metadata": {},
   "outputs": [],
   "source": [
    "retained1 = np.in1d(datasets, exception_list)"
   ]
  },
  {
   "cell_type": "code",
   "execution_count": 15,
   "id": "ab76868a",
   "metadata": {},
   "outputs": [],
   "source": [
    "keep = np.where( retained1 == True, True, keep )"
   ]
  },
  {
   "cell_type": "markdown",
   "id": "a16b36ae",
   "metadata": {},
   "source": [
    "#### Global exceptions"
   ]
  },
  {
   "cell_type": "code",
   "execution_count": 16,
   "id": "7cde136f",
   "metadata": {},
   "outputs": [],
   "source": [
    "global_exceptions = {}\n",
    "\n",
    "for campaign in campaign_list:\n",
    "    global_exceptions[campaign] = []"
   ]
  },
  {
   "cell_type": "code",
   "execution_count": 17,
   "id": "31769c55",
   "metadata": {},
   "outputs": [],
   "source": [
    "campaign_tiers_to_keep = [\n",
    "        [\"USER\", \"USER\"],                         #\n",
    "        [\"Commissioning08\", \"*\"],                 #    \n",
    "        [\"Commissioning10\", \"*\"],                 #\n",
    "        [\"Commissioning11\", \"*\"],                 #\n",
    "        [\"Commissioning12\", \"RECO\"],              #\n",
    "        [\"Commissioning2015\", \"*\"],               # \n",
    "        [\"Commissioning2017\", \"AOD\"],             #\n",
    "        [\"Commissioning2018\", \"RAW-RECO\"],        #\n",
    "        [\"Commissioning2021\", \"*\"],                # \n",
    "        [\"Commissioning2022\", \"*\"],                # \n",
    "        [\"Run3Summer19DRPremix\", \"*\"],       #\n",
    "        [\"Run3Summer19DR\", \"*\"],             #\n",
    "        [\"Run3Winter20\", \"*\"],\n",
    "        [\"Run3Winter20DRPremixMiniAOD\", \"AODSIM\"],#\n",
    "        [\"Run3Winter21DRMiniAOD\", \"AODSIM\"],       # \n",
    "        [\"Run3Summer21\", \"*\"],                    #\n",
    "        [\"Run3Winter21\", \"*\"],                    #\n",
    "        [\"Run3Summer21GS\", \"*\"],                  #\n",
    "        [\"Run3Summer21PrePremix\", \"*\"],           #\n",
    "        [\"Run3Summer21wmLHEGS\", \"GEN-SIM\"],       #\n",
    "        [\"Run3Summer22\", \"*\"],                    #    \n",
    "        [\"Summer20UL\", \"*\"],                       # \n",
    "        [\"Spring21UL\", \"*\"],                       # \n",
    "        [\"UL2016\", \"*\"],                           # \n",
    "        [\"UL2017\", \"*\"],                           # \n",
    "        [\"UL2018\", \"*\"],                           #\n",
    "        #[\"23Sep2016\", \"AOD\"], \n",
    "        #[\"18Apr2017\", \"AOD\"], \n",
    "        #[\"07Aug17\", \"AOD\"], \n",
    "        #[\"12Sep2017\", \"AOD\"], \n",
    "        #[\"17Nov2017\", \"AOD\"], \n",
    "        #[\"09May2018\", \"AOD\"], \n",
    "        #[\"06Jun2018\", \"AOD\"], \n",
    "        #[\"17Sept2018\", \"AOD\"], \n",
    "        #[\"22Jan2019\", \"AOD\"], \n",
    "        #[\"Run2018D-PromptReco\", \"AOD\"], \n",
    "        #[\"Run2018D-PromptReco\", \"AOD\"],    \n",
    "        [\"RunIISpring15PrePremix\", \"PREMIX\"],     #\n",
    "        #[\"RunIIFall15DR76\", \"AODSIM\"],            #\n",
    "        #[\"RunIISummer16DR80\", \"AODSIM\"],          #     \n",
    "        [\"RunIISummer16DR80Premix\", \"PREMIX\"],     #\n",
    "        #[\"RunIIFall17GS\", \"*\"],                   #\n",
    "        [\"RunIIFall17DRPremix\", \"PREMIX\"],         # \n",
    "        [\"RunIISummer17PrePremix\", \"PREMIX\"],      #\n",
    "        [\"RunIIFall17FSPremix\", \"PREMIX\"],             #\n",
    "        [\"RunIIFall17FSPrePremix\", \"PREMIX\"],          #\n",
    "        #[\"RunIIFall18wmLHEGS\", \"*\"],              #\n",
    "        #[\"RunIIFall18GS\", \"*\"],                   #\n",
    "        [\"RunIIAutumn18DRPremix\", \"PREMIX\"],      # \n",
    "        #[\"RunIIAutumn18DR\", \"AODSIM\"],            #\n",
    "        [\"RunIIAutumn18RECOBParking\", \"AODSIM\"],  #\n",
    "        #[\"RunIIAutumn18FSPremix\", \"*\"],      #\n",
    "        [\"RunIIWinter19PFCalib17wmLHEGS\", \"LHE\"], #\n",
    "        [\"RunIISpring18DRPremix\", \"PREMIX\"],      #\n",
    "        #[\"RunIIFall17DRStdmix\", \"*\"],        #\n",
    "        #[\"RunIISummer17DRStdmix\", \"*\"],      #\n",
    "        #[\"RunIISpring18DR\", \"AODSIM\"],            #\n",
    "        #[\"RunIISpring15DR74\", \"AODSIM\"],          #\n",
    "        #[\"RunIISummer16FSPremix\", \"*\"],      #\n",
    "        [\"RunIISummer15wmLHEGS\", \"LHE\"],          #\n",
    "        #[\"RunIIWinter19CosmicDR\", \"*\"],           #\n",
    "        [\"RunIIFall17wmLHEGS\", \"LHE\"],            #    \n",
    "        #[\"RunIIWinter19PFCalib16wmLHEGS\", \"*\"],   #\n",
    "        [\"RunIIFall17wmLHEGENOnly\", \"LHE\"],       #\n",
    "        [\"RunIIWinter15GS\", \"GEN-SIM\"],           #\n",
    "        [\"SkimBPark\", \"AOD\"],\n",
    "        [\"ParkingBPH\", \"AOD\"],                     # \n",
    "        [\"HIRun2010\", \"RECO\"],                    # \n",
    "        [\"HIRun2011\", \"AOD\"],                     #\n",
    "        [\"HIRun2013\", \"AOD\"],                     #\n",
    "        [\"HIRun2015\", \"AOD\"],                     #\n",
    "        [\"PARun2016\", \"AOD\"],                     #\n",
    "        [\"HIRun2018\", \"AOD\"],                     #\n",
    "        [\"HINPbPbAutumn18DR\", \"AODSIM\"],          # \n",
    "        [\"HiWinter13\", \"AODSIM\"],                 #\n",
    "        [\"pPb816Summer16DR\", \"AODSIM\"],           #\n",
    "        [\"HINPbPbWinter16DR\", \"AODSIM\"],          #\n",
    "        [\"HiFall13DR53X\", \"GEN-SIM-RECO\"],        #    \n",
    "        [\"pAWinter13DR53X\", \"GEN-SIM-RECO\"],      #\n",
    "        [\"XeXeRun2017\", \"*\"],                     #\n",
    "        [\"HIRun2013A\", \"RECO\"],                   #\n",
    "        [\"HINppWinter16DR\", \"AODSIM\"],            #\n",
    "        [\"LowPU2010\", \"GEN-SIM\"],                 #\n",
    "        [\"Run2010\", \"AOD\"],                       # DPOA\n",
    "        [\"Run2010\", \"RAW-RECO\"],                  # Keep cosmics\n",
    "        [\"Run2010\", \"RECO\"],                      # Keep cosmics\n",
    "        [\"Run2011\", \"AOD\"],                       #\n",
    "        [\"Run2011\", \"RAW-RECO\"],                  #\n",
    "        [\"Run2011\", \"RECO\"],                      #    \n",
    "        [\"Run2012\", \"AOD\"],                       # DPOA\n",
    "        [\"Run2012\", \"RAW-RECO\"],                  # Cosmics\n",
    "        [\"Summer11\", \"AODSIM\"],                   #\n",
    "        [\"Summer11Leg\", \"GEN-SIM\"],               #\n",
    "        [\"Fall11\", \"AODSIM\"],                     #    \n",
    "        [\"Summer11LegDR\", \"AODSIM\"],              #     \n",
    "        [\"Summer12DR53X\", \"AODSIM\"],              #\n",
    "        [\"Summer11dr53X\", \"AODSIM\"],              #\n",
    "        [\"Summer12_DR53X\", \"*\"],                  #     \n",
    "        [\"Summer12\", \"AODSIM\"],                   #\n",
    "        [\"Summer12\", \"GEN-SIM\"],                  # \n",
    "        [\"Summer13dr53X\", \"AODSIM\"],              #\n",
    "        [\"Run2015C_25ns\", \"*\"],                   #    \n",
    "        [\"Run2015\", \"AOD\"],                       # DPOA\n",
    "        [\"Run2015\", \"RAW-RECO\"],                  # Cosmics\n",
    "        [\"Phase2HLTTDRWinter20DIGI\", \"*\"],        # Requested by TSG    \n",
    "        [\"Phase2HLTTDRSummer20ReRECOMiniAOD\", \"*\"], #\n",
    "        [\"PhaseIITDRSpring17DR\", \"AOD\"],          #\n",
    "        [\"PhaseIIFall16DR82\", \"AODSIM\"],          #\n",
    "        [\"PhaseIISummer17wmLHEGENOnly\", \"LHE\"],   # \n",
    "        [\"GEM2019Upg14DR\", \"AODSIM\"],             #\n",
    "        [\"PhaseISpring17DR\", \"AODSIM\"],           # \n",
    "        [\"PhaseIFall16DR\", \"AODSIM\"],             #\n",
    "        [\"StreamExpressAlignment\", \"ALCARECO\"],   #\n",
    "        [\"TkAlCosmicsInCollisions\", \"ALCARECO\"],  #\n",
    "        [\"CMSSW_1_3_2\", \"RECO\"],                  # What is this?\n",
    "        ]"
   ]
  },
  {
   "cell_type": "code",
   "execution_count": 18,
   "id": "68603458",
   "metadata": {},
   "outputs": [],
   "source": [
    "for ipair in campaign_tiers_to_keep :\n",
    "    if ipair[1] not in global_exceptions[ipair[0]]:\n",
    "        global_exceptions[ipair[0]].append(ipair[1])"
   ]
  },
  {
   "cell_type": "code",
   "execution_count": 19,
   "id": "a209fcbf",
   "metadata": {},
   "outputs": [],
   "source": [
    "datasets_strings = datasets.to_numpy(dtype=\"str\")\n",
    "tier_strings = tier"
   ]
  },
  {
   "cell_type": "markdown",
   "id": "6642b143",
   "metadata": {},
   "source": [
    "### Go through all data tiers in the global exception list and keep those requested. "
   ]
  },
  {
   "cell_type": "code",
   "execution_count": 20,
   "id": "dfe2d262",
   "metadata": {},
   "outputs": [],
   "source": [
    "for icampaign,itiers in global_exceptions.items():\n",
    "    if \"*\" in itiers: \n",
    "        keep = np.where((np.core.defchararray.find(datasets_strings, icampaign) == -1),keep, True)\n",
    "    else: \n",
    "        for itier in itiers: \n",
    "            found_campaign_in_dataset = (np.core.defchararray.find(datasets_strings, icampaign) != -1)\n",
    "            tier_should_be_kept = np.where(tier == itier, True, False)\n",
    "            keep = np.where(found_campaign_in_dataset & tier_should_be_kept,\n",
    "                True, \n",
    "                keep)"
   ]
  },
  {
   "cell_type": "markdown",
   "id": "0c4c4e54",
   "metadata": {},
   "source": [
    "# Current size breakdown"
   ]
  },
  {
   "cell_type": "code",
   "execution_count": 21,
   "id": "1f23ac56",
   "metadata": {
    "scrolled": true
   },
   "outputs": [
    {
     "name": "stdout",
     "output_type": "stream",
     "text": [
      "Total size               :      19915.4\n",
      "Total size to keep       :       7432.0\n",
      "Total size to delete     :      12483.4\n"
     ]
    }
   ],
   "source": [
    "print('Total size               : %12.1f' % np.sum(size_on_tape))\n",
    "print('Total size to keep       : %12.1f' % np.sum(size_on_tape[keep]))\n",
    "print('Total size to delete     : %12.1f' % np.sum(size_on_tape[keep == False]))"
   ]
  },
  {
   "cell_type": "code",
   "execution_count": 22,
   "id": "b689e391",
   "metadata": {},
   "outputs": [],
   "source": [
    "datasets_kept = datasets[keep]\n",
    "datasets_categories_kept = np.full_like(datasets_kept, \"\")\n",
    "size_on_tape_kept = size_on_tape[keep]"
   ]
  },
  {
   "cell_type": "code",
   "execution_count": 23,
   "id": "1d424e71",
   "metadata": {
    "scrolled": true
   },
   "outputs": [
    {
     "data": {
      "text/plain": [
       "7432.02764"
      ]
     },
     "execution_count": 23,
     "metadata": {},
     "output_type": "execute_result"
    }
   ],
   "source": [
    "np.sum(size_on_tape_kept)"
   ]
  },
  {
   "cell_type": "markdown",
   "id": "93248b73",
   "metadata": {},
   "source": [
    "## Invalid exceptions"
   ]
  },
  {
   "cell_type": "code",
   "execution_count": 24,
   "id": "b327d3f3",
   "metadata": {},
   "outputs": [],
   "source": [
    "exception_valid = np.in1d(exception_list, datasets[keep == True])\n",
    "exception_names = exception_list[exception_valid == False]"
   ]
  },
  {
   "cell_type": "markdown",
   "id": "cc5351d9",
   "metadata": {},
   "source": [
    "# Make formatted lists to keep and drop"
   ]
  },
  {
   "cell_type": "code",
   "execution_count": 25,
   "id": "b36269c8",
   "metadata": {},
   "outputs": [],
   "source": [
    "df_keep = df[keep == True]\n",
    "df_drop = df[keep == False]"
   ]
  },
  {
   "cell_type": "code",
   "execution_count": 26,
   "id": "bb3dd4ea",
   "metadata": {},
   "outputs": [],
   "source": [
    "## Stupid delimeter. \n",
    "delim = ''.join( ['-' for i in range(75)])"
   ]
  },
  {
   "cell_type": "markdown",
   "id": "e0679795",
   "metadata": {},
   "source": [
    "# Keep list"
   ]
  },
  {
   "cell_type": "code",
   "execution_count": 27,
   "id": "800ba8a8",
   "metadata": {},
   "outputs": [
    {
     "name": "stdout",
     "output_type": "stream",
     "text": [
      "                      Category :           T0 |           T1 |        Total\n",
      "---------------------------------------------------------------------------\n",
      "                         Skims :          0.0 |        118.6 |        118.6\n",
      "       Commissioning + Cosmics :          0.0 |        526.4 |        526.4\n",
      "                    Cosmics MC :          0.0 |          0.0 |          0.0\n",
      "                         Run 3 :          0.0 |        463.4 |        463.4\n",
      "               Run 2 legacy MC :          0.0 |        874.4 |        874.4\n",
      "             Run 2 legacy data :          0.0 |       2626.4 |       2626.4\n",
      "         Run 2 pre-legacy data :          0.0 |        259.9 |        259.9\n",
      "           Run 2 pre-legacy MC :          0.0 |        762.6 |        762.6\n",
      "                     B-Parking :          0.0 |          0.0 |          0.0\n",
      "                           HIN :          0.0 |         92.6 |         92.6\n",
      "                          ALCA :          0.0 |         43.2 |         43.2\n",
      "                          DPOA :          0.0 |       1095.4 |       1095.4\n",
      "                      Upgrades :          0.0 |        561.3 |        561.3\n",
      "                        Prompt :          0.0 |          1.8 |          1.8\n",
      "                           LHE :          0.0 |          0.0 |          0.0\n",
      "               Data challenges :          0.0 |          0.0 |          0.0\n",
      "                 Miscellaneous :          0.0 |          6.1 |          6.1\n",
      "---------------------------------------------------------------------------\n",
      "                         Total :          0.0 |       7432.0 |       7432.0\n"
     ]
    }
   ],
   "source": [
    "print( \"%30s : %12s | %12s | %12s\" % ( \"Category\", \"T0\", \"T1\", \"Total\" ) )\n",
    "print(delim)\n",
    "for category in categories:\n",
    "    isum_t0 = np.sum( df_keep[ (df_keep[\"category\"] == category) & (df_keep[\"RSE Name\"] == \"T0_CH_CERN_Tape\")][\"dataset_size_in_rse_tb\"] )\n",
    "    isum_t1 = np.sum( df_keep[ (df_keep[\"category\"] == category) & (df_keep[\"RSE Name\"] != \"T0_CH_CERN_Tape\")][\"dataset_size_in_rse_tb\"] )\n",
    "    print( \"%30s : %12.1f | %12.1f | %12.1f\" % ( category, isum_t0, isum_t1, isum_t0 + isum_t1 ) )\n",
    "print(delim)\n",
    "sum_t0 = np.sum( df_keep[(df_keep[\"RSE Name\"] == \"T0_CH_CERN_Tape\")][\"dataset_size_in_rse_tb\"] )\n",
    "sum_t1 = np.sum( df_keep[(df_keep[\"RSE Name\"] != \"T0_CH_CERN_Tape\")][\"dataset_size_in_rse_tb\"] )\n",
    "print( \"%30s : %12.1f | %12.1f | %12.1f\" % ( \"Total\", sum_t0, sum_t1, sum_t0 + sum_t1 ) )"
   ]
  },
  {
   "cell_type": "code",
   "execution_count": 28,
   "id": "a36d4528",
   "metadata": {},
   "outputs": [],
   "source": [
    "keeping_sorted = df_keep.sort_values(by=\"dataset_size_in_rse_tb\", ascending=False)"
   ]
  },
  {
   "cell_type": "code",
   "execution_count": 29,
   "id": "f8864a82",
   "metadata": {},
   "outputs": [
    {
     "data": {
      "text/plain": [
       "4       /QCD_Pt-15to7000_TuneCP5_Flat_14TeV-pythia8/Ph...\n",
       "4288    /ggH_HToSSTobbbb_MH-125_TuneCP5_13TeV-powheg-p...\n",
       "9       /ggH_HToSSTodddd_MH-125_TuneCP5_13TeV-powheg-p...\n",
       "787                 /SingleMuon/Run2018A-17Sep2018-v2/AOD\n",
       "11      /JetHT/Run2018D-JetHTJetPlusHOFilter-12Nov2019...\n",
       "                              ...                        \n",
       "3905    /BuToKstarPsi2S_EtaPtFilter_8TeV-pythia6-evtge...\n",
       "4299    /BuToKstarPsi2S_EtaPtFilter_8TeV-pythia6-evtge...\n",
       "4021    /BsToJPsiPhi_JPsiToMuMu_PhiToKK_EtaPtFilter_So...\n",
       "3995    /TTToHadronic_hdampDOWN_TuneCP5_13TeV-powheg-p...\n",
       "4144    /TTToSemiLeptonic_TuneCP5up_13TeV-powheg-pythi...\n",
       "Name: dataset, Length: 1297, dtype: object"
      ]
     },
     "execution_count": 29,
     "metadata": {},
     "output_type": "execute_result"
    }
   ],
   "source": [
    "keeping_sorted.get(\"dataset\", \"size_on_tape_[TB]\")"
   ]
  },
  {
   "cell_type": "code",
   "execution_count": 30,
   "id": "f9a81e9e",
   "metadata": {},
   "outputs": [],
   "source": [
    "df_keep.to_csv(\"keeping_sorted_fall2022_disk.csv\")"
   ]
  },
  {
   "cell_type": "markdown",
   "id": "399f4b02",
   "metadata": {},
   "source": [
    "# Drop list"
   ]
  },
  {
   "cell_type": "code",
   "execution_count": 31,
   "id": "7b64c1ad",
   "metadata": {
    "scrolled": false
   },
   "outputs": [
    {
     "name": "stdout",
     "output_type": "stream",
     "text": [
      "                      Category :           T0 |           T1 |        Total\n",
      "---------------------------------------------------------------------------\n",
      "                         Skims :          0.0 |         31.8 |         31.8\n",
      "       Commissioning + Cosmics :          0.0 |         31.5 |         31.5\n",
      "                    Cosmics MC :          0.0 |          0.0 |          0.0\n",
      "                         Run 3 :          0.0 |          0.0 |          0.0\n",
      "               Run 2 legacy MC :          0.0 |        375.4 |        375.4\n",
      "             Run 2 legacy data :          0.0 |          0.0 |          0.0\n",
      "         Run 2 pre-legacy data :          0.0 |       1597.9 |       1597.9\n",
      "           Run 2 pre-legacy MC :          0.0 |        853.8 |        853.8\n",
      "                     B-Parking :          0.0 |        199.8 |        199.8\n",
      "                           HIN :          0.0 |       1888.3 |       1888.3\n",
      "                          ALCA :          0.0 |        162.0 |        162.0\n",
      "                          DPOA :          0.0 |       1487.9 |       1487.9\n",
      "                      Upgrades :          0.0 |        656.6 |        656.6\n",
      "                        Prompt :          0.0 |        547.2 |        547.2\n",
      "                           LHE :          0.0 |        188.9 |        188.9\n",
      "               Data challenges :          0.0 |          0.0 |          0.0\n",
      "                 Miscellaneous :          0.0 |       4462.3 |       4462.3\n",
      "---------------------------------------------------------------------------\n",
      "                         Total :          0.0 |      12483.4 |      12483.4\n"
     ]
    }
   ],
   "source": [
    "print( \"%30s : %12s | %12s | %12s\" % ( \"Category\", \"T0\", \"T1\", \"Total\" ) )\n",
    "print(delim)\n",
    "for category in categories:\n",
    "    isum_t0 = np.sum( df_drop[ (df_drop[\"category\"] == category) & (df_drop[\"RSE Name\"] == \"T0_CH_CERN_Tape\")][\"dataset_size_in_rse_tb\"] )\n",
    "    isum_t1 = np.sum( df_drop[ (df_drop[\"category\"] == category) & (df_drop[\"RSE Name\"] != \"T0_CH_CERN_Tape\")][\"dataset_size_in_rse_tb\"] )\n",
    "    print( \"%30s : %12.1f | %12.1f | %12.1f\" % ( category, isum_t0, isum_t1, isum_t0 + isum_t1 ) )\n",
    "print(delim)\n",
    "sum_t0 = np.sum( df_drop[(df_drop[\"RSE Name\"] == \"T0_CH_CERN_Tape\")][\"dataset_size_in_rse_tb\"] )\n",
    "sum_t1 = np.sum( df_drop[(df_drop[\"RSE Name\"] != \"T0_CH_CERN_Tape\")][\"dataset_size_in_rse_tb\"] )\n",
    "print( \"%30s : %12.1f | %12.1f | %12.1f\" % ( \"Total\", sum_t0, sum_t1, sum_t0 + sum_t1 ) )    "
   ]
  },
  {
   "cell_type": "code",
   "execution_count": 32,
   "id": "0cdf0f6e",
   "metadata": {},
   "outputs": [],
   "source": [
    "dropping_sorted = df_drop.sort_values(by=\"dataset_size_in_rse_tb\", ascending=False)\n",
    "dropping_sorted_values = dropping_sorted[\"dataset\"]"
   ]
  },
  {
   "cell_type": "code",
   "execution_count": 33,
   "id": "993c3d2b",
   "metadata": {},
   "outputs": [],
   "source": [
    "df_drop.to_csv(\"dropping_sorted_fall2022_disk.csv\")"
   ]
  },
  {
   "cell_type": "code",
   "execution_count": 34,
   "id": "35f5c9be",
   "metadata": {
    "scrolled": false
   },
   "outputs": [
    {
     "data": {
      "text/html": [
       "<div>\n",
       "<style scoped>\n",
       "    .dataframe tbody tr th:only-of-type {\n",
       "        vertical-align: middle;\n",
       "    }\n",
       "\n",
       "    .dataframe tbody tr th {\n",
       "        vertical-align: top;\n",
       "    }\n",
       "\n",
       "    .dataframe thead th {\n",
       "        text-align: right;\n",
       "    }\n",
       "</style>\n",
       "<table border=\"1\" class=\"dataframe\">\n",
       "  <thead>\n",
       "    <tr style=\"text-align: right;\">\n",
       "      <th></th>\n",
       "      <th>dataset</th>\n",
       "      <th>RSE Name</th>\n",
       "      <th>dataset_size_in_rse_tb</th>\n",
       "      <th>last_access_time_of_dataset_in_rse</th>\n",
       "      <th>last_access_time_of_dataset_in_rse.1</th>\n",
       "      <th>#_files_of_dataset_in_rse</th>\n",
       "      <th>#_accessed_files_of_dataset_in_rse</th>\n",
       "      <th>unique_accounts</th>\n",
       "      <th>Unnamed: 8</th>\n",
       "      <th>Unnamed: 9</th>\n",
       "      <th>...</th>\n",
       "      <th>Unnamed: 28</th>\n",
       "      <th>Unnamed: 29</th>\n",
       "      <th>Unnamed: 30</th>\n",
       "      <th>Unnamed: 31</th>\n",
       "      <th>Unnamed: 32</th>\n",
       "      <th>Unnamed: 33</th>\n",
       "      <th>Unnamed: 34</th>\n",
       "      <th>Unnamed: 35</th>\n",
       "      <th>Unnamed: 36</th>\n",
       "      <th>category</th>\n",
       "    </tr>\n",
       "  </thead>\n",
       "  <tbody>\n",
       "    <tr>\n",
       "      <th>6</th>\n",
       "      <td>/HIExpressPhysics/HIRun2018A-Express-v1/FEVT</td>\n",
       "      <td>T2_CH_CERN</td>\n",
       "      <td>190.46522</td>\n",
       "      <td>1/1/70</td>\n",
       "      <td>0</td>\n",
       "      <td>42760</td>\n",
       "      <td>42760</td>\n",
       "      <td>['sync_t2_ch_cern']</td>\n",
       "      <td>NaN</td>\n",
       "      <td>NaN</td>\n",
       "      <td>...</td>\n",
       "      <td>NaN</td>\n",
       "      <td>NaN</td>\n",
       "      <td>NaN</td>\n",
       "      <td>NaN</td>\n",
       "      <td>NaN</td>\n",
       "      <td>NaN</td>\n",
       "      <td>NaN</td>\n",
       "      <td>NaN</td>\n",
       "      <td>NaN</td>\n",
       "      <td>HIN</td>\n",
       "    </tr>\n",
       "    <tr>\n",
       "      <th>3112</th>\n",
       "      <td>/HIAllPhysics/HIRun2010-ZS-v2/RECO</td>\n",
       "      <td>T3_CH_CERN_OpenData</td>\n",
       "      <td>184.06570</td>\n",
       "      <td>1/1/70</td>\n",
       "      <td>0</td>\n",
       "      <td>31600</td>\n",
       "      <td>31600</td>\n",
       "      <td>['t3_ch_cern_opendata_local']</td>\n",
       "      <td>NaN</td>\n",
       "      <td>NaN</td>\n",
       "      <td>...</td>\n",
       "      <td>NaN</td>\n",
       "      <td>NaN</td>\n",
       "      <td>NaN</td>\n",
       "      <td>NaN</td>\n",
       "      <td>NaN</td>\n",
       "      <td>NaN</td>\n",
       "      <td>NaN</td>\n",
       "      <td>NaN</td>\n",
       "      <td>NaN</td>\n",
       "      <td>HIN</td>\n",
       "    </tr>\n",
       "    <tr>\n",
       "      <th>54</th>\n",
       "      <td>/HIMinimumBias9/HIRun2018A-04Apr2019-v1/AOD</td>\n",
       "      <td>T2_US_Vanderbilt</td>\n",
       "      <td>103.46607</td>\n",
       "      <td>10/6/21</td>\n",
       "      <td>1633503356000</td>\n",
       "      <td>34727</td>\n",
       "      <td>34727</td>\n",
       "      <td>['transfer_ops']</td>\n",
       "      <td>NaN</td>\n",
       "      <td>NaN</td>\n",
       "      <td>...</td>\n",
       "      <td>NaN</td>\n",
       "      <td>NaN</td>\n",
       "      <td>NaN</td>\n",
       "      <td>NaN</td>\n",
       "      <td>NaN</td>\n",
       "      <td>NaN</td>\n",
       "      <td>NaN</td>\n",
       "      <td>NaN</td>\n",
       "      <td>NaN</td>\n",
       "      <td>HIN</td>\n",
       "    </tr>\n",
       "    <tr>\n",
       "      <th>4009</th>\n",
       "      <td>/HIMinimumBias17/HIRun2018A-04Apr2019-v1/AOD</td>\n",
       "      <td>T2_US_Vanderbilt</td>\n",
       "      <td>102.55292</td>\n",
       "      <td>10/4/21</td>\n",
       "      <td>1633323868000</td>\n",
       "      <td>34719</td>\n",
       "      <td>34719</td>\n",
       "      <td>['transfer_ops']</td>\n",
       "      <td>NaN</td>\n",
       "      <td>NaN</td>\n",
       "      <td>...</td>\n",
       "      <td>NaN</td>\n",
       "      <td>NaN</td>\n",
       "      <td>NaN</td>\n",
       "      <td>NaN</td>\n",
       "      <td>NaN</td>\n",
       "      <td>NaN</td>\n",
       "      <td>NaN</td>\n",
       "      <td>NaN</td>\n",
       "      <td>NaN</td>\n",
       "      <td>HIN</td>\n",
       "    </tr>\n",
       "    <tr>\n",
       "      <th>4236</th>\n",
       "      <td>/HIMinimumBias16/HIRun2018A-04Apr2019-v1/AOD</td>\n",
       "      <td>T2_US_Vanderbilt</td>\n",
       "      <td>102.44592</td>\n",
       "      <td>10/6/21</td>\n",
       "      <td>1633506873000</td>\n",
       "      <td>34718</td>\n",
       "      <td>34718</td>\n",
       "      <td>['transfer_ops']</td>\n",
       "      <td>NaN</td>\n",
       "      <td>NaN</td>\n",
       "      <td>...</td>\n",
       "      <td>NaN</td>\n",
       "      <td>NaN</td>\n",
       "      <td>NaN</td>\n",
       "      <td>NaN</td>\n",
       "      <td>NaN</td>\n",
       "      <td>NaN</td>\n",
       "      <td>NaN</td>\n",
       "      <td>NaN</td>\n",
       "      <td>NaN</td>\n",
       "      <td>HIN</td>\n",
       "    </tr>\n",
       "    <tr>\n",
       "      <th>...</th>\n",
       "      <td>...</td>\n",
       "      <td>...</td>\n",
       "      <td>...</td>\n",
       "      <td>...</td>\n",
       "      <td>...</td>\n",
       "      <td>...</td>\n",
       "      <td>...</td>\n",
       "      <td>...</td>\n",
       "      <td>...</td>\n",
       "      <td>...</td>\n",
       "      <td>...</td>\n",
       "      <td>...</td>\n",
       "      <td>...</td>\n",
       "      <td>...</td>\n",
       "      <td>...</td>\n",
       "      <td>...</td>\n",
       "      <td>...</td>\n",
       "      <td>...</td>\n",
       "      <td>...</td>\n",
       "      <td>...</td>\n",
       "      <td>...</td>\n",
       "    </tr>\n",
       "    <tr>\n",
       "      <th>4301</th>\n",
       "      <td>/SinglePhoton/Run2017C-17Nov2017-v1/AOD</td>\n",
       "      <td>T2_BE_UCL</td>\n",
       "      <td>1.00435</td>\n",
       "      <td>1/1/70</td>\n",
       "      <td>0</td>\n",
       "      <td>277</td>\n",
       "      <td>277</td>\n",
       "      <td>['sync_t2_be_ucl']</td>\n",
       "      <td>NaN</td>\n",
       "      <td>NaN</td>\n",
       "      <td>...</td>\n",
       "      <td>NaN</td>\n",
       "      <td>NaN</td>\n",
       "      <td>NaN</td>\n",
       "      <td>NaN</td>\n",
       "      <td>NaN</td>\n",
       "      <td>NaN</td>\n",
       "      <td>NaN</td>\n",
       "      <td>NaN</td>\n",
       "      <td>NaN</td>\n",
       "      <td>Run 2 pre-legacy data</td>\n",
       "    </tr>\n",
       "    <tr>\n",
       "      <th>821</th>\n",
       "      <td>/ScoutingMonitor/Run2018A-PromptReco-v1/MINIAOD</td>\n",
       "      <td>T2_US_UCSD</td>\n",
       "      <td>1.00222</td>\n",
       "      <td>1/1/70</td>\n",
       "      <td>0</td>\n",
       "      <td>422</td>\n",
       "      <td>422</td>\n",
       "      <td>['transfer_ops']</td>\n",
       "      <td>NaN</td>\n",
       "      <td>NaN</td>\n",
       "      <td>...</td>\n",
       "      <td>NaN</td>\n",
       "      <td>NaN</td>\n",
       "      <td>NaN</td>\n",
       "      <td>NaN</td>\n",
       "      <td>NaN</td>\n",
       "      <td>NaN</td>\n",
       "      <td>NaN</td>\n",
       "      <td>NaN</td>\n",
       "      <td>NaN</td>\n",
       "      <td>Prompt</td>\n",
       "    </tr>\n",
       "    <tr>\n",
       "      <th>3136</th>\n",
       "      <td>/DYToLL_2J_13TeV-amcatnloFXFX-pythia8/RunIIFal...</td>\n",
       "      <td>T3_CH_CERN_OpenData</td>\n",
       "      <td>1.00173</td>\n",
       "      <td>1/1/70</td>\n",
       "      <td>0</td>\n",
       "      <td>947</td>\n",
       "      <td>947</td>\n",
       "      <td>['kati']</td>\n",
       "      <td>NaN</td>\n",
       "      <td>NaN</td>\n",
       "      <td>...</td>\n",
       "      <td>NaN</td>\n",
       "      <td>NaN</td>\n",
       "      <td>NaN</td>\n",
       "      <td>NaN</td>\n",
       "      <td>NaN</td>\n",
       "      <td>NaN</td>\n",
       "      <td>NaN</td>\n",
       "      <td>NaN</td>\n",
       "      <td>NaN</td>\n",
       "      <td>Miscellaneous</td>\n",
       "    </tr>\n",
       "    <tr>\n",
       "      <th>3777</th>\n",
       "      <td>/DoubleJpsiToMuMu_DPS_13TeV-pythia8/RunIISumme...</td>\n",
       "      <td>T2_US_Wisconsin</td>\n",
       "      <td>1.00085</td>\n",
       "      <td>1/1/70</td>\n",
       "      <td>0</td>\n",
       "      <td>406</td>\n",
       "      <td>406</td>\n",
       "      <td>['transfer_ops']</td>\n",
       "      <td>NaN</td>\n",
       "      <td>NaN</td>\n",
       "      <td>...</td>\n",
       "      <td>NaN</td>\n",
       "      <td>NaN</td>\n",
       "      <td>NaN</td>\n",
       "      <td>NaN</td>\n",
       "      <td>NaN</td>\n",
       "      <td>NaN</td>\n",
       "      <td>NaN</td>\n",
       "      <td>NaN</td>\n",
       "      <td>NaN</td>\n",
       "      <td>Miscellaneous</td>\n",
       "    </tr>\n",
       "    <tr>\n",
       "      <th>306</th>\n",
       "      <td>/MuonEG/Run2016G-18Apr2017-v1/MINIAOD</td>\n",
       "      <td>T1_US_FNAL_Disk</td>\n",
       "      <td>1.00019</td>\n",
       "      <td>1/1/70</td>\n",
       "      <td>0</td>\n",
       "      <td>359</td>\n",
       "      <td>359</td>\n",
       "      <td>['transfer_ops']</td>\n",
       "      <td>NaN</td>\n",
       "      <td>NaN</td>\n",
       "      <td>...</td>\n",
       "      <td>NaN</td>\n",
       "      <td>NaN</td>\n",
       "      <td>NaN</td>\n",
       "      <td>NaN</td>\n",
       "      <td>NaN</td>\n",
       "      <td>NaN</td>\n",
       "      <td>NaN</td>\n",
       "      <td>NaN</td>\n",
       "      <td>NaN</td>\n",
       "      <td>Run 2 pre-legacy data</td>\n",
       "    </tr>\n",
       "  </tbody>\n",
       "</table>\n",
       "<p>3006 rows × 38 columns</p>\n",
       "</div>"
      ],
      "text/plain": [
       "                                                dataset             RSE Name  \\\n",
       "6          /HIExpressPhysics/HIRun2018A-Express-v1/FEVT           T2_CH_CERN   \n",
       "3112                 /HIAllPhysics/HIRun2010-ZS-v2/RECO  T3_CH_CERN_OpenData   \n",
       "54          /HIMinimumBias9/HIRun2018A-04Apr2019-v1/AOD     T2_US_Vanderbilt   \n",
       "4009       /HIMinimumBias17/HIRun2018A-04Apr2019-v1/AOD     T2_US_Vanderbilt   \n",
       "4236       /HIMinimumBias16/HIRun2018A-04Apr2019-v1/AOD     T2_US_Vanderbilt   \n",
       "...                                                 ...                  ...   \n",
       "4301            /SinglePhoton/Run2017C-17Nov2017-v1/AOD            T2_BE_UCL   \n",
       "821     /ScoutingMonitor/Run2018A-PromptReco-v1/MINIAOD           T2_US_UCSD   \n",
       "3136  /DYToLL_2J_13TeV-amcatnloFXFX-pythia8/RunIIFal...  T3_CH_CERN_OpenData   \n",
       "3777  /DoubleJpsiToMuMu_DPS_13TeV-pythia8/RunIISumme...      T2_US_Wisconsin   \n",
       "306               /MuonEG/Run2016G-18Apr2017-v1/MINIAOD      T1_US_FNAL_Disk   \n",
       "\n",
       "      dataset_size_in_rse_tb last_access_time_of_dataset_in_rse  \\\n",
       "6                  190.46522                             1/1/70   \n",
       "3112               184.06570                             1/1/70   \n",
       "54                 103.46607                            10/6/21   \n",
       "4009               102.55292                            10/4/21   \n",
       "4236               102.44592                            10/6/21   \n",
       "...                      ...                                ...   \n",
       "4301                 1.00435                             1/1/70   \n",
       "821                  1.00222                             1/1/70   \n",
       "3136                 1.00173                             1/1/70   \n",
       "3777                 1.00085                             1/1/70   \n",
       "306                  1.00019                             1/1/70   \n",
       "\n",
       "      last_access_time_of_dataset_in_rse.1  #_files_of_dataset_in_rse  \\\n",
       "6                                        0                      42760   \n",
       "3112                                     0                      31600   \n",
       "54                           1633503356000                      34727   \n",
       "4009                         1633323868000                      34719   \n",
       "4236                         1633506873000                      34718   \n",
       "...                                    ...                        ...   \n",
       "4301                                     0                        277   \n",
       "821                                      0                        422   \n",
       "3136                                     0                        947   \n",
       "3777                                     0                        406   \n",
       "306                                      0                        359   \n",
       "\n",
       "      #_accessed_files_of_dataset_in_rse                unique_accounts  \\\n",
       "6                                  42760            ['sync_t2_ch_cern']   \n",
       "3112                               31600  ['t3_ch_cern_opendata_local']   \n",
       "54                                 34727               ['transfer_ops']   \n",
       "4009                               34719               ['transfer_ops']   \n",
       "4236                               34718               ['transfer_ops']   \n",
       "...                                  ...                            ...   \n",
       "4301                                 277             ['sync_t2_be_ucl']   \n",
       "821                                  422               ['transfer_ops']   \n",
       "3136                                 947                       ['kati']   \n",
       "3777                                 406               ['transfer_ops']   \n",
       "306                                  359               ['transfer_ops']   \n",
       "\n",
       "      Unnamed: 8  Unnamed: 9  ...  Unnamed: 28  Unnamed: 29  Unnamed: 30  \\\n",
       "6            NaN         NaN  ...          NaN          NaN          NaN   \n",
       "3112         NaN         NaN  ...          NaN          NaN          NaN   \n",
       "54           NaN         NaN  ...          NaN          NaN          NaN   \n",
       "4009         NaN         NaN  ...          NaN          NaN          NaN   \n",
       "4236         NaN         NaN  ...          NaN          NaN          NaN   \n",
       "...          ...         ...  ...          ...          ...          ...   \n",
       "4301         NaN         NaN  ...          NaN          NaN          NaN   \n",
       "821          NaN         NaN  ...          NaN          NaN          NaN   \n",
       "3136         NaN         NaN  ...          NaN          NaN          NaN   \n",
       "3777         NaN         NaN  ...          NaN          NaN          NaN   \n",
       "306          NaN         NaN  ...          NaN          NaN          NaN   \n",
       "\n",
       "      Unnamed: 31  Unnamed: 32  Unnamed: 33  Unnamed: 34  Unnamed: 35  \\\n",
       "6             NaN          NaN          NaN          NaN          NaN   \n",
       "3112          NaN          NaN          NaN          NaN          NaN   \n",
       "54            NaN          NaN          NaN          NaN          NaN   \n",
       "4009          NaN          NaN          NaN          NaN          NaN   \n",
       "4236          NaN          NaN          NaN          NaN          NaN   \n",
       "...           ...          ...          ...          ...          ...   \n",
       "4301          NaN          NaN          NaN          NaN          NaN   \n",
       "821           NaN          NaN          NaN          NaN          NaN   \n",
       "3136          NaN          NaN          NaN          NaN          NaN   \n",
       "3777          NaN          NaN          NaN          NaN          NaN   \n",
       "306           NaN          NaN          NaN          NaN          NaN   \n",
       "\n",
       "      Unnamed: 36               category  \n",
       "6             NaN                    HIN  \n",
       "3112          NaN                    HIN  \n",
       "54            NaN                    HIN  \n",
       "4009          NaN                    HIN  \n",
       "4236          NaN                    HIN  \n",
       "...           ...                    ...  \n",
       "4301          NaN  Run 2 pre-legacy data  \n",
       "821           NaN                 Prompt  \n",
       "3136          NaN          Miscellaneous  \n",
       "3777          NaN          Miscellaneous  \n",
       "306           NaN  Run 2 pre-legacy data  \n",
       "\n",
       "[3006 rows x 38 columns]"
      ]
     },
     "execution_count": 34,
     "metadata": {},
     "output_type": "execute_result"
    }
   ],
   "source": [
    "dropping_sorted"
   ]
  },
  {
   "cell_type": "markdown",
   "id": "516dbf84",
   "metadata": {},
   "source": [
    "# Total to remove from T0"
   ]
  },
  {
   "cell_type": "code",
   "execution_count": 35,
   "id": "707fb20a",
   "metadata": {},
   "outputs": [
    {
     "data": {
      "text/plain": [
       "0.0"
      ]
     },
     "execution_count": 35,
     "metadata": {},
     "output_type": "execute_result"
    }
   ],
   "source": [
    "np.sum( dropping_sorted[\"dataset_size_in_rse_tb\"][dropping_sorted[\"RSE Name\"] == \"T0_CH_CERN_Tape\"] )"
   ]
  },
  {
   "cell_type": "markdown",
   "id": "7b02badf",
   "metadata": {},
   "source": [
    "# Total to remove from T1"
   ]
  },
  {
   "cell_type": "code",
   "execution_count": 36,
   "id": "b0a8a4dc",
   "metadata": {
    "scrolled": true
   },
   "outputs": [
    {
     "data": {
      "text/plain": [
       "12483.39966"
      ]
     },
     "execution_count": 36,
     "metadata": {},
     "output_type": "execute_result"
    }
   ],
   "source": [
    "np.sum( dropping_sorted[\"dataset_size_in_rse_tb\"] ) - np.sum( dropping_sorted[\"RSE Name\"][dropping_sorted[\"RSE Name\"] == \"T0_CH_CERN_Tape\"] )"
   ]
  },
  {
   "cell_type": "markdown",
   "id": "22d3b375",
   "metadata": {},
   "source": [
    "## DPOA Data"
   ]
  },
  {
   "cell_type": "code",
   "execution_count": 37,
   "id": "f1227f99",
   "metadata": {},
   "outputs": [],
   "source": [
    "vals_dpoa = keeping_sorted[\"dataset_size_in_rse_tb\"][keeping_sorted[\"category\"] == \"DPOA\"][keeping_sorted[\"RSE Name\"] == \"T0_CH_CERN_Tape\"]"
   ]
  },
  {
   "cell_type": "code",
   "execution_count": 38,
   "id": "d053acb4",
   "metadata": {
    "scrolled": false
   },
   "outputs": [
    {
     "data": {
      "text/plain": [
       "0.0"
      ]
     },
     "execution_count": 38,
     "metadata": {},
     "output_type": "execute_result"
    }
   ],
   "source": [
    "np.sum( vals_dpoa )"
   ]
  },
  {
   "cell_type": "code",
   "execution_count": null,
   "id": "44c2337f",
   "metadata": {},
   "outputs": [],
   "source": []
  },
  {
   "cell_type": "markdown",
   "id": "39a7f8dd",
   "metadata": {},
   "source": [
    "## Sanity check of exceptions\n",
    "\n",
    "List of exceptions should not be in the list to drop. The intersection of these sets should be empty. "
   ]
  },
  {
   "cell_type": "code",
   "execution_count": 39,
   "id": "74d46010",
   "metadata": {},
   "outputs": [
    {
     "data": {
      "text/plain": [
       "set()"
      ]
     },
     "execution_count": 39,
     "metadata": {},
     "output_type": "execute_result"
    }
   ],
   "source": [
    "set(exception_list) & set(dropping_sorted_values)"
   ]
  },
  {
   "cell_type": "code",
   "execution_count": null,
   "id": "2684529c",
   "metadata": {},
   "outputs": [],
   "source": []
  }
 ],
 "metadata": {
  "kernelspec": {
   "display_name": "Python 3 (ipykernel)",
   "language": "python",
   "name": "python3"
  },
  "language_info": {
   "codemirror_mode": {
    "name": "ipython",
    "version": 3
   },
   "file_extension": ".py",
   "mimetype": "text/x-python",
   "name": "python",
   "nbconvert_exporter": "python",
   "pygments_lexer": "ipython3",
   "version": "3.10.4"
  }
 },
 "nbformat": 4,
 "nbformat_minor": 5
}
