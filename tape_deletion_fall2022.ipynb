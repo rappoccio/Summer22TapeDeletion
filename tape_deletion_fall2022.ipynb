{
 "cells": [
  {
   "cell_type": "code",
   "execution_count": 1,
   "id": "2eaf0688",
   "metadata": {},
   "outputs": [],
   "source": [
    "import pandas as pd\n",
    "import numpy as np\n",
    "import copy "
   ]
  },
  {
   "cell_type": "code",
   "execution_count": 2,
   "id": "89e7dbe2",
   "metadata": {},
   "outputs": [],
   "source": [
    "df = pd.read_csv(\"keeping_sorted.csv\")"
   ]
  },
  {
   "cell_type": "code",
   "execution_count": null,
   "id": "ac102877",
   "metadata": {},
   "outputs": [],
   "source": []
  },
  {
   "cell_type": "code",
   "execution_count": 3,
   "id": "2f6dd36d",
   "metadata": {},
   "outputs": [],
   "source": [
    "datasets = df[\"dataset\"]\n",
    "location = df[\"rse_id\"]\n",
    "tier = df[\"DTier\"]\n",
    "size_on_tape = df[\"size_on_tape_[TB]\"]"
   ]
  },
  {
   "cell_type": "code",
   "execution_count": 4,
   "id": "b9ff84b1",
   "metadata": {},
   "outputs": [],
   "source": [
    "exceptions = pd.read_csv(\"exceptions_fall2022.txt\")"
   ]
  },
  {
   "cell_type": "code",
   "execution_count": 5,
   "id": "0eff76fb",
   "metadata": {},
   "outputs": [],
   "source": [
    "exception_list = exceptions[\"item\"]"
   ]
  },
  {
   "cell_type": "markdown",
   "id": "a0ec5831",
   "metadata": {},
   "source": [
    "## Total size on tape"
   ]
  },
  {
   "cell_type": "code",
   "execution_count": 6,
   "id": "554f510e",
   "metadata": {
    "scrolled": true
   },
   "outputs": [
    {
     "data": {
      "text/plain": [
       "144805.72161000004"
      ]
     },
     "execution_count": 6,
     "metadata": {},
     "output_type": "execute_result"
    }
   ],
   "source": [
    "np.sum(size_on_tape)"
   ]
  },
  {
   "cell_type": "code",
   "execution_count": 7,
   "id": "d403104c",
   "metadata": {},
   "outputs": [],
   "source": [
    "keep = np.full( np.size(datasets), False )"
   ]
  },
  {
   "cell_type": "markdown",
   "id": "6440226b",
   "metadata": {},
   "source": [
    "## Breakdown of campaign to \"human readable\" format"
   ]
  },
  {
   "cell_type": "code",
   "execution_count": 8,
   "id": "f4cfd6c3",
   "metadata": {},
   "outputs": [],
   "source": [
    "categories = {\n",
    "\n",
    "    \"Skims\":[\"USER\"],\n",
    "    \"Commissioning + Cosmics\":[\n",
    "       \"Commissioning08\",     \n",
    "       \"Commissioning10\",  \n",
    "       \"Commissioning11\",  \n",
    "       \"Commissioning12\",  \n",
    "       \"Commissioning2015\",\n",
    "       \"Commissioning2017\",\n",
    "       \"Commissioning2018\",\n",
    "       \"Commissioning2021\",\n",
    "       \"Commissioning2022\",\n",
    "    ],\n",
    "    \n",
    "    \"Cosmics MC\":[\n",
    "        \"RunIISpring18CosmicDR\"\n",
    "    ],\n",
    "        \n",
    "    \"Run 3\":[\n",
    "        \"Run3Summer19DRPremix\",       \n",
    "        \"Run3Summer19DR\",  \n",
    "        \"Run3Winter20\",\n",
    "        \"Run3Winter20DRPremixMiniAOD\",\n",
    "        \"Run3Winter21DRMiniAOD\",      \n",
    "        \"Run3Summer21\",               \n",
    "        \"Run3Winter21\",               \n",
    "        \"Run3Summer21GS\",             \n",
    "        \"Run3Summer21PrePremix\",      \n",
    "        \"Run3Summer21wmLHEGS\",        \n",
    "        \"Run3Summer22\",                  \n",
    "    ],\n",
    "    \n",
    "    \"Run 2 legacy MC\":[\n",
    "        \"Summer19UL\",\n",
    "        \"Summer20UL\",\n",
    "        \"Spring21UL\",\n",
    "    ],\n",
    "    \n",
    "    \"Run 2 legacy data\":[\n",
    "        \"UL2016\",\n",
    "        \"UL2017\",\n",
    "        \"UL2018\",\n",
    "    ],\n",
    "    \n",
    "    \"Run 2 pre-legacy data\":[\n",
    "        \"23Sep2016\",\n",
    "        \"18Apr2017\",\n",
    "        \"07Aug17\",\n",
    "        \"12Sep2017\",\n",
    "        \"17Nov2017\",\n",
    "        \"09May2018\",\n",
    "        \"06Jun2018\",\n",
    "        \"17Sep2018\",\n",
    "        \"22Jan2019\",\n",
    "        \"Run2018D-PromptReco\",\n",
    "        \"RunIIWinter17DR\",\n",
    "    ],\n",
    "\n",
    "    \"Run 2 pre-legacy MC\":[\n",
    "        \"RunIISpring15PrePremix\",    \n",
    "        \"RunIIFall15DR76\",           \n",
    "        \"RunIISummer16DR80\",         \n",
    "        \"RunIISummer16DR80Premix\",   \n",
    "        \"RunIIFall17GS\",             \n",
    "        \"RunIIFall17DRPremix\",       \n",
    "        \"RunIISummer17PrePremix\",    \n",
    "        \"RunIIFall17FSPremix\",       \n",
    "        \"RunIIFall17FSPrePremix\",    \n",
    "        \"RunIIFall18wmLHEGS\",        \n",
    "        \"RunIIFall18GS\",             \n",
    "        \"RunIIAutumn18DRPremix\",     \n",
    "        \"RunIIAutumn18DR\",           \n",
    "        \"RunIIAutumn18RECOBParking\", \n",
    "        \"RunIIAutumn18FSPremix\",        \n",
    "        \"RunIIWinter19PFCalib17wmLHEGS\",\n",
    "        \"RunIISpring18DRPremix\",        \n",
    "        \"RunIIFall17DRStdmix\",          \n",
    "        \"RunIISummer17DRStdmix\",        \n",
    "        \"RunIISpring18DR\",\n",
    "        \"RunIISpring18GS\",\n",
    "        \"RunIISpring15DR74\",            \n",
    "        \"RunIISummer16FSPremix\",        \n",
    "        \"RunIISummer15wmLHEGS\",         \n",
    "        \"RunIIWinter19CosmicDR\",        \n",
    "        \"RunIIFall17wmLHEGS\",           \n",
    "        \"RunIIWinter19PFCalib16wmLHEGS\",\n",
    "        \"RunIIFall17wmLHEGENOnly\",      \n",
    "        \"RunIIWinter15GS\",\n",
    "        \"RunIISpring16FSPremix\",\n",
    "        \"RunIIWinter19PFCalib16GS\",\n",
    "        \"RunIILowPUAutumn18GS\",\n",
    "        \"RunIIWinter19PFCalib\",\n",
    "        \"RunIISummer15\"\n",
    "    ],\n",
    "    \n",
    "    \"B-Parking\":[\n",
    "        \"ParkingBPH\",\n",
    "        \"SkimBPark\"\n",
    "    ],    \n",
    "    \n",
    "    \"HIN\":[\n",
    "        \"HIRun2010\", \n",
    "        \"HIRun2011\", \n",
    "        \"HIRun2013\", \n",
    "        \"HIRun2015\", \n",
    "        \"PARun2016\", \n",
    "        \"HIRun2018\", \n",
    "        \"HINPbPbAutumn18DR\",\n",
    "        \"HiWinter13\", \n",
    "        \"pPb816Summer16DR\",\n",
    "        \"HINPbPbWinter16DR\",\n",
    "        \"HiFall13DR53X\",\n",
    "        \"pAWinter13DR53X\",\n",
    "        \"XeXeRun2017\",\n",
    "        \"HIRun2013A\",\n",
    "        \"HINppWinter16DR\",\n",
    "        \"pPb816Spring16GS\",\n",
    "        \"HiFall13\",\n",
    "    ],\n",
    "\n",
    "    \"ALCA\":[\n",
    "        \"StreamExpressAlignment\",\n",
    "        \"TkAlCosmicsInCollisions\",\n",
    "        \"ALCARECO\"\n",
    "    ],\n",
    "    \n",
    "    \"DPOA\":[\n",
    "        \"LowPU2010\",\n",
    "        \"Run2010\",\n",
    "        \"Run2010\",\n",
    "        \"Run2010\",\n",
    "        \"Run2011\",\n",
    "        \"Run2011\",\n",
    "        \"Run2011\",\n",
    "        \"Run2012\",\n",
    "        \"Run2012\",\n",
    "        \"Summer11\",\n",
    "        \"Summer11Leg\",\n",
    "        \"Fall11\",\n",
    "        \"Summer11LegDR\",\n",
    "        \"Summer12DR53X\",\n",
    "        \"Summer11dr53X\",\n",
    "        \"Summer12_DR53X\",\n",
    "        \"Summer12\",\n",
    "        \"Summer12\",\n",
    "        \"Summer13dr53X\",\n",
    "        \"Run2015C_25ns\",\n",
    "        \"Run2015\",\n",
    "        \"Run2015\",\n",
    "    ],\n",
    "    \n",
    "    \"Upgrades\":[\n",
    "        \"Phase2HLTTDRWinter20DIGI\", \n",
    "        \"Phase2HLTTDRSummer20ReRECOMiniAOD\",\n",
    "        \"PhaseIITDRSpring17DR\", \n",
    "        \"PhaseIIFall16DR82\",\n",
    "        \"PhaseIISummer17wmLHEGENOnly\",\n",
    "        \"GEM2019Upg14DR\",\n",
    "        \"PhaseISpring17DR\", \n",
    "        \"PhaseIFall16DR\", \n",
    "        \"Phase2HLTTDRWinter20GS\",\n",
    "        \"PhaseIIMTDTDRAutumn18DR\",\n",
    "        \"PhaseIITDRSpring19DR\",\n",
    "        \"PhaseIITDRFall17GS\",\n",
    "        \"PhaseIITDRFall17DR\",\n",
    "        \"PhaseIISpr18AODMiniAOD\",\n",
    "        \"TP2023HGCAL\",\n",
    "        \"SHCAL2023Upg14\",\n",
    "        \"TP2023SHCALDR\",\n",
    "        \"PhaseIISummer17GenOnly\",\n",
    "        \"Phase2HLTTDRWinter20RECOMiniAOD\",\n",
    "        \"PhaseIIFall17D\",\n",
    "        \"Muon2023Upg14DR\",\n",
    "        \"RunIISummer15\",\n",
    "        \"RunIISpring16reHLT80\",\n",
    "        \"Upg2023SHCAL14\"\n",
    "    ],\n",
    "    \n",
    "\n",
    "\n",
    "    \n",
    "    \"Prompt\":[\n",
    "        \"Prompt\",\n",
    "    ],\n",
    "    \n",
    "    \"LHE\":[\n",
    "        \"LHE\",\n",
    "    ],\n",
    "    \n",
    "    \"Data challenges\":[\n",
    "        \"CONTAINER\"\n",
    "    ],\n",
    "\n",
    "    \"Miscellaneous\":[\n",
    "        \"CMSSW_1_3_2\",\n",
    "    ],\n",
    "}\n",
    "\n"
   ]
  },
  {
   "cell_type": "markdown",
   "id": "f41a7aaa",
   "metadata": {},
   "source": [
    "### List of all campaigns"
   ]
  },
  {
   "cell_type": "code",
   "execution_count": 9,
   "id": "8c161341",
   "metadata": {},
   "outputs": [],
   "source": [
    "campaign_list = []\n",
    "\n",
    "for vals in categories.values():\n",
    "    campaign_list = campaign_list + vals"
   ]
  },
  {
   "cell_type": "markdown",
   "id": "b0cef707",
   "metadata": {},
   "source": [
    "### Map of campaigns to the category they belong to"
   ]
  },
  {
   "cell_type": "code",
   "execution_count": 10,
   "id": "796d2205",
   "metadata": {},
   "outputs": [],
   "source": [
    "cats_map = {}\n",
    "for val in campaign_list: \n",
    "    for cat in categories:\n",
    "        if val in categories[cat]:\n",
    "            cats_map[val] = cat"
   ]
  },
  {
   "cell_type": "markdown",
   "id": "6f8c5f7a",
   "metadata": {},
   "source": [
    "### Map of datasets to the category they belong to"
   ]
  },
  {
   "cell_type": "code",
   "execution_count": 11,
   "id": "127ff178",
   "metadata": {},
   "outputs": [],
   "source": [
    "dataset_categories = []\n",
    "for dataset in datasets:\n",
    "    found = False\n",
    "    for category in categories: \n",
    "        for campaign in categories[category]:\n",
    "            if campaign in dataset and not found: \n",
    "                dataset_categories.append(category)\n",
    "                found = True\n",
    "    if not found:\n",
    "        dataset_categories.append(\"Miscellaneous\")"
   ]
  },
  {
   "cell_type": "code",
   "execution_count": 12,
   "id": "9560a268",
   "metadata": {},
   "outputs": [],
   "source": [
    "df['category'] = dataset_categories"
   ]
  },
  {
   "cell_type": "code",
   "execution_count": 13,
   "id": "3f2bc1ba",
   "metadata": {},
   "outputs": [
    {
     "name": "stdout",
     "output_type": "stream",
     "text": [
      "                         Skims :       4063.3\n",
      "       Commissioning + Cosmics :        634.3\n",
      "                    Cosmics MC :          0.0\n",
      "                         Run 3 :       8562.9\n",
      "               Run 2 legacy MC :      25203.9\n",
      "             Run 2 legacy data :      15986.4\n",
      "         Run 2 pre-legacy data :       9441.4\n",
      "           Run 2 pre-legacy MC :      46451.0\n",
      "                     B-Parking :       3765.2\n",
      "                           HIN :      10318.7\n",
      "                          ALCA :         62.2\n",
      "                          DPOA :      11698.7\n",
      "                      Upgrades :       8055.3\n",
      "                        Prompt :        321.3\n",
      "                           LHE :          0.0\n",
      "               Data challenges :          0.0\n",
      "                 Miscellaneous :        241.1\n"
     ]
    }
   ],
   "source": [
    "for category in categories:\n",
    "    isum = np.sum( df[ df[\"category\"] == category][\"size_on_tape_[TB]\"] )\n",
    "    print( \"%30s : %12.1f\" % ( category, isum ) )"
   ]
  },
  {
   "cell_type": "markdown",
   "id": "31f46448",
   "metadata": {},
   "source": [
    "## Decide which datasets to delete and keep"
   ]
  },
  {
   "cell_type": "markdown",
   "id": "859af69b",
   "metadata": {},
   "source": [
    "#### Specific exceptions"
   ]
  },
  {
   "cell_type": "code",
   "execution_count": 14,
   "id": "22a74a1d",
   "metadata": {},
   "outputs": [],
   "source": [
    "retained1 = np.in1d(datasets, exception_list)"
   ]
  },
  {
   "cell_type": "code",
   "execution_count": 15,
   "id": "ab76868a",
   "metadata": {},
   "outputs": [],
   "source": [
    "keep = np.where( retained1 == True, True, keep )"
   ]
  },
  {
   "cell_type": "markdown",
   "id": "a16b36ae",
   "metadata": {},
   "source": [
    "#### Global exceptions"
   ]
  },
  {
   "cell_type": "code",
   "execution_count": 16,
   "id": "7cde136f",
   "metadata": {},
   "outputs": [],
   "source": [
    "global_exceptions = {}\n",
    "\n",
    "for campaign in campaign_list:\n",
    "    global_exceptions[campaign] = []"
   ]
  },
  {
   "cell_type": "code",
   "execution_count": 17,
   "id": "31769c55",
   "metadata": {},
   "outputs": [],
   "source": [
    "campaign_tiers_to_keep = [\n",
    "        [\"USER\", \"USER\"],                         #\n",
    "        [\"Commissioning08\", \"*\"],                 #    \n",
    "        [\"Commissioning10\", \"*\"],                 #\n",
    "        [\"Commissioning11\", \"*\"],                 #\n",
    "        [\"Commissioning12\", \"RECO\"],              #\n",
    "        [\"Commissioning2015\", \"*\"],               # \n",
    "        [\"Commissioning2017\", \"AOD\"],             #\n",
    "        [\"Commissioning2018\", \"RAW-RECO\"],        #\n",
    "        [\"Commissioning2021\", \"*\"],                # \n",
    "        [\"Commissioning2022\", \"*\"],                # \n",
    "        [\"Run3Summer19DRPremix\", \"*\"],       #\n",
    "        [\"Run3Summer19DR\", \"*\"],             #\n",
    "        [\"Run3Winter20\", \"*\"],\n",
    "        [\"Run3Winter20DRPremixMiniAOD\", \"AODSIM\"],#\n",
    "        [\"Run3Winter21DRMiniAOD\", \"AODSIM\"],       # \n",
    "        [\"Run3Summer21\", \"*\"],                    #\n",
    "        [\"Run3Winter21\", \"*\"],                    #\n",
    "        [\"Run3Summer21GS\", \"*\"],                  #\n",
    "        [\"Run3Summer21PrePremix\", \"*\"],           #\n",
    "        [\"Run3Summer21wmLHEGS\", \"GEN-SIM\"],       #\n",
    "        [\"Run3Summer22\", \"*\"],                    #    \n",
    "        [\"Summer20UL\", \"*\"],                       # \n",
    "        [\"Spring21UL\", \"*\"],                       # \n",
    "        [\"UL2016\", \"*\"],                           # \n",
    "        [\"UL2017\", \"*\"],                           # \n",
    "        [\"UL2018\", \"*\"],                           #\n",
    "        #[\"23Sep2016\", \"AOD\"], \n",
    "        #[\"18Apr2017\", \"AOD\"], \n",
    "        #[\"07Aug17\", \"AOD\"], \n",
    "        #[\"12Sep2017\", \"AOD\"], \n",
    "        #[\"17Nov2017\", \"AOD\"], \n",
    "        #[\"09May2018\", \"AOD\"], \n",
    "        #[\"06Jun2018\", \"AOD\"], \n",
    "        #[\"17Sept2018\", \"AOD\"], \n",
    "        #[\"22Jan2019\", \"AOD\"], \n",
    "        #[\"Run2018D-PromptReco\", \"AOD\"], \n",
    "        #[\"Run2018D-PromptReco\", \"AOD\"],    \n",
    "        [\"RunIISpring15PrePremix\", \"PREMIX\"],     #\n",
    "        #[\"RunIIFall15DR76\", \"AODSIM\"],            #\n",
    "        #[\"RunIISummer16DR80\", \"AODSIM\"],          #     \n",
    "        [\"RunIISummer16DR80Premix\", \"PREMIX\"],     #\n",
    "        #[\"RunIIFall17GS\", \"*\"],                   #\n",
    "        [\"RunIIFall17DRPremix\", \"PREMIX\"],         # \n",
    "        [\"RunIISummer17PrePremix\", \"PREMIX\"],      #\n",
    "        [\"RunIIFall17FSPremix\", \"PREMIX\"],             #\n",
    "        [\"RunIIFall17FSPrePremix\", \"PREMIX\"],          #\n",
    "        #[\"RunIIFall18wmLHEGS\", \"*\"],              #\n",
    "        #[\"RunIIFall18GS\", \"*\"],                   #\n",
    "        [\"RunIIAutumn18DRPremix\", \"PREMIX\"],      # \n",
    "        #[\"RunIIAutumn18DR\", \"AODSIM\"],            #\n",
    "        [\"RunIIAutumn18RECOBParking\", \"AODSIM\"],  #\n",
    "        #[\"RunIIAutumn18FSPremix\", \"*\"],      #\n",
    "        [\"RunIIWinter19PFCalib17wmLHEGS\", \"LHE\"], #\n",
    "        [\"RunIISpring18DRPremix\", \"PREMIX\"],      #\n",
    "        #[\"RunIIFall17DRStdmix\", \"*\"],        #\n",
    "        #[\"RunIISummer17DRStdmix\", \"*\"],      #\n",
    "        #[\"RunIISpring18DR\", \"AODSIM\"],            #\n",
    "        #[\"RunIISpring15DR74\", \"AODSIM\"],          #\n",
    "        #[\"RunIISummer16FSPremix\", \"*\"],      #\n",
    "        [\"RunIISummer15wmLHEGS\", \"LHE\"],          #\n",
    "        #[\"RunIIWinter19CosmicDR\", \"*\"],           #\n",
    "        [\"RunIIFall17wmLHEGS\", \"LHE\"],            #    \n",
    "        #[\"RunIIWinter19PFCalib16wmLHEGS\", \"*\"],   #\n",
    "        [\"RunIIFall17wmLHEGENOnly\", \"LHE\"],       #\n",
    "        [\"RunIIWinter15GS\", \"GEN-SIM\"],           #\n",
    "        [\"SkimBPark\", \"AOD\"],\n",
    "        [\"ParkingBPH\", \"AOD\"],                     # \n",
    "        [\"HIRun2010\", \"RECO\"],                    # \n",
    "        [\"HIRun2011\", \"AOD\"],                     #\n",
    "        [\"HIRun2013\", \"AOD\"],                     #\n",
    "        [\"HIRun2015\", \"AOD\"],                     #\n",
    "        [\"PARun2016\", \"AOD\"],                     #\n",
    "        [\"HIRun2018\", \"AOD\"],                     #\n",
    "        [\"HINPbPbAutumn18DR\", \"AODSIM\"],          # \n",
    "        [\"HiWinter13\", \"AODSIM\"],                 #\n",
    "        [\"pPb816Summer16DR\", \"AODSIM\"],           #\n",
    "        [\"HINPbPbWinter16DR\", \"AODSIM\"],          #\n",
    "        [\"HiFall13DR53X\", \"GEN-SIM-RECO\"],        #    \n",
    "        [\"pAWinter13DR53X\", \"GEN-SIM-RECO\"],      #\n",
    "        [\"XeXeRun2017\", \"*\"],                     #\n",
    "        [\"HIRun2013A\", \"RECO\"],                   #\n",
    "        [\"HINppWinter16DR\", \"AODSIM\"],            #\n",
    "        [\"LowPU2010\", \"GEN-SIM\"],                 #\n",
    "        [\"Run2010\", \"AOD\"],                       # DPOA\n",
    "        [\"Run2010\", \"RAW-RECO\"],                  # Keep cosmics\n",
    "        [\"Run2010\", \"RECO\"],                      # Keep cosmics\n",
    "        [\"Run2011\", \"AOD\"],                       #\n",
    "        [\"Run2011\", \"RAW-RECO\"],                  #\n",
    "        [\"Run2011\", \"RECO\"],                      #    \n",
    "        [\"Run2012\", \"AOD\"],                       # DPOA\n",
    "        [\"Run2012\", \"RAW-RECO\"],                  # Cosmics\n",
    "        [\"Summer11\", \"AODSIM\"],                   #\n",
    "        [\"Summer11Leg\", \"GEN-SIM\"],               #\n",
    "        [\"Fall11\", \"AODSIM\"],                     #    \n",
    "        [\"Summer11LegDR\", \"AODSIM\"],              #     \n",
    "        [\"Summer12DR53X\", \"AODSIM\"],              #\n",
    "        [\"Summer11dr53X\", \"AODSIM\"],              #\n",
    "        [\"Summer12_DR53X\", \"*\"],                  #     \n",
    "        [\"Summer12\", \"AODSIM\"],                   #\n",
    "        [\"Summer12\", \"GEN-SIM\"],                  # \n",
    "        [\"Summer13dr53X\", \"AODSIM\"],              #\n",
    "        [\"Run2015C_25ns\", \"*\"],                   #    \n",
    "        [\"Run2015\", \"AOD\"],                       # DPOA\n",
    "        [\"Run2015\", \"RAW-RECO\"],                  # Cosmics\n",
    "        [\"Phase2HLTTDRWinter20DIGI\", \"*\"],        # Requested by TSG    \n",
    "        [\"Phase2HLTTDRSummer20ReRECOMiniAOD\", \"*\"], #\n",
    "        [\"PhaseIITDRSpring17DR\", \"AOD\"],          #\n",
    "        [\"PhaseIIFall16DR82\", \"AODSIM\"],          #\n",
    "        [\"PhaseIISummer17wmLHEGENOnly\", \"LHE\"],   # \n",
    "        [\"GEM2019Upg14DR\", \"AODSIM\"],             #\n",
    "        [\"PhaseISpring17DR\", \"AODSIM\"],           # \n",
    "        [\"PhaseIFall16DR\", \"AODSIM\"],             #\n",
    "        [\"StreamExpressAlignment\", \"ALCARECO\"],   #\n",
    "        [\"TkAlCosmicsInCollisions\", \"ALCARECO\"],  #\n",
    "        [\"CMSSW_1_3_2\", \"RECO\"],                  # What is this?\n",
    "        ]"
   ]
  },
  {
   "cell_type": "code",
   "execution_count": 18,
   "id": "68603458",
   "metadata": {},
   "outputs": [],
   "source": [
    "for ipair in campaign_tiers_to_keep :\n",
    "    if ipair[1] not in global_exceptions[ipair[0]]:\n",
    "        global_exceptions[ipair[0]].append(ipair[1])"
   ]
  },
  {
   "cell_type": "code",
   "execution_count": 19,
   "id": "a209fcbf",
   "metadata": {},
   "outputs": [],
   "source": [
    "datasets_strings = datasets.to_numpy(dtype=\"str\")\n",
    "tier_strings = tier.to_numpy(dtype=\"str\")"
   ]
  },
  {
   "cell_type": "markdown",
   "id": "6642b143",
   "metadata": {},
   "source": [
    "### Go through all data tiers in the global exception list and keep those requested. "
   ]
  },
  {
   "cell_type": "code",
   "execution_count": 20,
   "id": "dfe2d262",
   "metadata": {},
   "outputs": [],
   "source": [
    "for icampaign,itiers in global_exceptions.items():\n",
    "    if \"*\" in itiers: \n",
    "        keep = np.where((np.core.defchararray.find(datasets_strings, icampaign) == -1),keep, True)\n",
    "    else: \n",
    "        for itier in itiers: \n",
    "            found_campaign_in_dataset = (np.core.defchararray.find(datasets_strings, icampaign) != -1)\n",
    "            tier_should_be_kept = np.where(tier == itier, True, False)\n",
    "            keep = np.where(found_campaign_in_dataset & tier_should_be_kept,\n",
    "                True, \n",
    "                keep)"
   ]
  },
  {
   "cell_type": "markdown",
   "id": "0c4c4e54",
   "metadata": {},
   "source": [
    "# Current size breakdown"
   ]
  },
  {
   "cell_type": "code",
   "execution_count": 21,
   "id": "1f23ac56",
   "metadata": {
    "scrolled": true
   },
   "outputs": [
    {
     "name": "stdout",
     "output_type": "stream",
     "text": [
      "Total size               :     144805.7\n",
      "Total size to keep       :     100580.5\n",
      "Total size to delete     :      44225.2\n"
     ]
    }
   ],
   "source": [
    "print('Total size               : %12.1f' % np.sum(size_on_tape))\n",
    "print('Total size to keep       : %12.1f' % np.sum(size_on_tape[keep]))\n",
    "print('Total size to delete     : %12.1f' % np.sum(size_on_tape[keep == False]))"
   ]
  },
  {
   "cell_type": "code",
   "execution_count": 22,
   "id": "b689e391",
   "metadata": {},
   "outputs": [],
   "source": [
    "datasets_kept = datasets[keep]\n",
    "datasets_categories_kept = np.full_like(datasets_kept, \"\")\n",
    "size_on_tape_kept = size_on_tape[keep]"
   ]
  },
  {
   "cell_type": "code",
   "execution_count": 23,
   "id": "1d424e71",
   "metadata": {
    "scrolled": true
   },
   "outputs": [
    {
     "data": {
      "text/plain": [
       "100580.48163"
      ]
     },
     "execution_count": 23,
     "metadata": {},
     "output_type": "execute_result"
    }
   ],
   "source": [
    "np.sum(size_on_tape_kept)"
   ]
  },
  {
   "cell_type": "markdown",
   "id": "93248b73",
   "metadata": {},
   "source": [
    "## Invalid exceptions"
   ]
  },
  {
   "cell_type": "code",
   "execution_count": 24,
   "id": "b327d3f3",
   "metadata": {},
   "outputs": [],
   "source": [
    "exception_valid = np.in1d(exception_list, datasets[keep == True])\n",
    "exception_names = exception_list[exception_valid == False]"
   ]
  },
  {
   "cell_type": "markdown",
   "id": "f79d196c",
   "metadata": {},
   "source": [
    "### Exceptions that don't seem to be on tape.\n",
    "\n",
    "These are going to be safe and off of the \"to delete\" list, but just in case people are curious. "
   ]
  },
  {
   "cell_type": "code",
   "execution_count": 25,
   "id": "06ffdd86",
   "metadata": {
    "scrolled": true
   },
   "outputs": [
    {
     "name": "stdout",
     "output_type": "stream",
     "text": [
      "/SingleMuon/Run2016D-SiPixelCalSingleMuon-21Feb2020_UL2016_HIPM_WMass-v2/ALCARECO\n",
      "/SingleMuon/Run2016H-SiPixelCalSingleMuon-21Feb2020_UL2016_WMass-v2/ALCARECO\n",
      "/SingleMuon/Run2016H-SiPixelCalSingleMuon-21Feb2020_UL2016_WMass-v3/ALCARECO\n",
      "/StreamExpress/Run2018A-TkAlMinBias-Express-v1/ALCARECO\n",
      "/StreamExpress/Run2018B-TkAlMinBias-Express-v1/ALCARECO\n",
      "/StreamExpress/Run2018C-TkAlMinBias-Express-v1/ALCARECO\n",
      "/StreamExpress/Run2018D-TkAlMinBias-Express-v1/ALCARECO\n",
      "/Cosmics/Commissioning2021-TkAlCosmics0T-CRUZETmkFit-v1/ALCARECO\n",
      "/Cosmics/Commissioning2022-TkAlCosmics0T-PromptReco-v1/ALCARECO\n",
      "/AlCaLumiPixels/Run2018B-AlCaPCCZeroBias-PromptReco-v3/ALCARECO\n",
      "/AlCaLumiPixels/Run2018E-AlCaPCCZeroBias-PromptReco-v2/ALCARECO\n",
      "/Cosmics/Commissioning2022-SiStripCalCosmics-PromptReco-v1/ALCARECO\n",
      "/Cosmics/Commissioning2021-TkAlCosmics0T-CRUZETmkFit-v1/ALCARECO\n",
      "/Cosmics/Commissioning2022-TkAlCosmics0T-PromptReco-v1/ALCARECO\n",
      "/Cosmics/Commissioning2022-SiStripCalCosmics-PromptReco-v1/ALCARECO\n"
     ]
    }
   ],
   "source": [
    "for i in exception_names: \n",
    "    if \"*\" not in i : \n",
    "        print(i)"
   ]
  },
  {
   "cell_type": "markdown",
   "id": "cc5351d9",
   "metadata": {},
   "source": [
    "# Make formatted lists to keep and drop"
   ]
  },
  {
   "cell_type": "code",
   "execution_count": 26,
   "id": "b36269c8",
   "metadata": {},
   "outputs": [],
   "source": [
    "df_keep = df[keep == True]\n",
    "df_drop = df[keep == False]"
   ]
  },
  {
   "cell_type": "code",
   "execution_count": 27,
   "id": "bb3dd4ea",
   "metadata": {},
   "outputs": [],
   "source": [
    "## Stupid delimeter. \n",
    "delim = ''.join( ['-' for i in range(75)])"
   ]
  },
  {
   "cell_type": "markdown",
   "id": "e0679795",
   "metadata": {},
   "source": [
    "# Keep list"
   ]
  },
  {
   "cell_type": "code",
   "execution_count": 28,
   "id": "800ba8a8",
   "metadata": {},
   "outputs": [
    {
     "name": "stdout",
     "output_type": "stream",
     "text": [
      "                      Category :           T0 |           T1 |        Total\n",
      "---------------------------------------------------------------------------\n",
      "                         Skims :        371.3 |       3692.0 |       4063.3\n",
      "       Commissioning + Cosmics :         17.8 |        616.5 |        634.3\n",
      "                    Cosmics MC :          0.0 |          0.0 |          0.0\n",
      "                         Run 3 :       3087.2 |       5475.7 |       8562.9\n",
      "               Run 2 legacy MC :       8382.1 |      16698.5 |      25080.6\n",
      "             Run 2 legacy data :       1362.2 |      14624.3 |      15986.4\n",
      "         Run 2 pre-legacy data :        788.6 |       1330.6 |       2119.1\n",
      "           Run 2 pre-legacy MC :       2442.9 |       8470.9 |      10913.8\n",
      "                     B-Parking :       2871.9 |        893.3 |       3765.2\n",
      "                           HIN :       1042.9 |       8865.3 |       9908.2\n",
      "                          ALCA :         52.2 |         10.0 |         62.2\n",
      "                          DPOA :        708.5 |      10798.3 |      11506.8\n",
      "                      Upgrades :       1021.3 |       6895.4 |       7916.8\n",
      "                        Prompt :          6.0 |         41.7 |         47.7\n",
      "                           LHE :          0.0 |          0.0 |          0.0\n",
      "               Data challenges :          0.0 |          0.0 |          0.0\n",
      "                 Miscellaneous :         13.2 |          0.0 |         13.2\n",
      "---------------------------------------------------------------------------\n",
      "                         Total :      22168.0 |      78412.5 |     100580.5\n"
     ]
    }
   ],
   "source": [
    "print( \"%30s : %12s | %12s | %12s\" % ( \"Category\", \"T0\", \"T1\", \"Total\" ) )\n",
    "print(delim)\n",
    "for category in categories:\n",
    "    isum_t0 = np.sum( df_keep[ (df_keep[\"category\"] == category) & (df_keep[\"rse_id\"] == \"T0_CH_CERN_Tape\")][\"size_on_tape_[TB]\"] )\n",
    "    isum_t1 = np.sum( df_keep[ (df_keep[\"category\"] == category) & (df_keep[\"rse_id\"] != \"T0_CH_CERN_Tape\")][\"size_on_tape_[TB]\"] )\n",
    "    print( \"%30s : %12.1f | %12.1f | %12.1f\" % ( category, isum_t0, isum_t1, isum_t0 + isum_t1 ) )\n",
    "print(delim)\n",
    "sum_t0 = np.sum( df_keep[(df_keep[\"rse_id\"] == \"T0_CH_CERN_Tape\")][\"size_on_tape_[TB]\"] )\n",
    "sum_t1 = np.sum( df_keep[(df_keep[\"rse_id\"] != \"T0_CH_CERN_Tape\")][\"size_on_tape_[TB]\"] )\n",
    "print( \"%30s : %12.1f | %12.1f | %12.1f\" % ( \"Total\", sum_t0, sum_t1, sum_t0 + sum_t1 ) )"
   ]
  },
  {
   "cell_type": "code",
   "execution_count": 29,
   "id": "a36d4528",
   "metadata": {},
   "outputs": [],
   "source": [
    "keeping_sorted = df_keep.sort_values(by=\"size_on_tape_[TB]\", ascending=False)"
   ]
  },
  {
   "cell_type": "code",
   "execution_count": 30,
   "id": "f8864a82",
   "metadata": {},
   "outputs": [
    {
     "data": {
      "text/plain": [
       "0         /Neutrino_E-10_gun/RunIISummer17PrePremix-PUFu...\n",
       "87401     /Neutrino_E-10_gun/RunIISummer17PrePremix-PUAu...\n",
       "76074     /Neutrino_E-10_gun/RunIISummer20ULPrePremix-UL...\n",
       "25367     /Neutrino_E-10_gun/RunIISummer17PrePremix-MCv2...\n",
       "76075     /Neutrino_E-10_gun/RunIISummer17PrePremix-MCv2...\n",
       "                                ...                        \n",
       "51093     /CIToMuMu_Des_Lambda-9_M-800_TuneZ2star_8TeV-p...\n",
       "51092     /CIToEE_Des_Lambda-9_M-500_TuneZ2star_8TeV-pyt...\n",
       "51091     /CIToMuMu_Des_Lambda-15_M-500_TuneZ2star_8TeV-...\n",
       "51090     /DarkMatter_Monophoton_M-500_VectorUNI_TuneZ2s...\n",
       "118211    /HTMHT/Run2015A-LogErrorMonitor-27Jan2016-v1/USER\n",
       "Name: dataset, Length: 68122, dtype: object"
      ]
     },
     "execution_count": 30,
     "metadata": {},
     "output_type": "execute_result"
    }
   ],
   "source": [
    "keeping_sorted.get(\"dataset\", \"size_on_tape_[TB]\")"
   ]
  },
  {
   "cell_type": "code",
   "execution_count": 31,
   "id": "f9a81e9e",
   "metadata": {},
   "outputs": [],
   "source": [
    "df_keep.to_csv(\"keeping_sorted_fall2022.csv\")"
   ]
  },
  {
   "cell_type": "markdown",
   "id": "399f4b02",
   "metadata": {},
   "source": [
    "# Drop list"
   ]
  },
  {
   "cell_type": "code",
   "execution_count": 32,
   "id": "7b64c1ad",
   "metadata": {
    "scrolled": false
   },
   "outputs": [
    {
     "name": "stdout",
     "output_type": "stream",
     "text": [
      "                      Category :           T0 |           T1 |        Total\n",
      "---------------------------------------------------------------------------\n",
      "                         Skims :          0.0 |          0.0 |          0.0\n",
      "       Commissioning + Cosmics :          0.0 |          0.0 |          0.0\n",
      "                    Cosmics MC :          0.0 |          0.0 |          0.0\n",
      "                         Run 3 :          0.0 |          0.0 |          0.0\n",
      "               Run 2 legacy MC :         47.4 |         75.9 |        123.3\n",
      "             Run 2 legacy data :          0.0 |          0.0 |          0.0\n",
      "         Run 2 pre-legacy data :        997.0 |       6325.3 |       7322.3\n",
      "           Run 2 pre-legacy MC :      10189.1 |      25348.1 |      35537.2\n",
      "                     B-Parking :          0.0 |          0.0 |          0.0\n",
      "                           HIN :         16.2 |        394.3 |        410.5\n",
      "                          ALCA :          0.0 |          0.0 |          0.0\n",
      "                          DPOA :          0.0 |        191.9 |        191.9\n",
      "                      Upgrades :         54.7 |         83.8 |        138.5\n",
      "                        Prompt :          0.0 |        273.6 |        273.6\n",
      "                           LHE :          0.0 |          0.0 |          0.0\n",
      "               Data challenges :          0.0 |          0.0 |          0.0\n",
      "                 Miscellaneous :         17.3 |        210.7 |        228.0\n",
      "---------------------------------------------------------------------------\n",
      "                         Total :      11321.8 |      32903.5 |      44225.2\n"
     ]
    }
   ],
   "source": [
    "print( \"%30s : %12s | %12s | %12s\" % ( \"Category\", \"T0\", \"T1\", \"Total\" ) )\n",
    "print(delim)\n",
    "for category in categories:\n",
    "    isum_t0 = np.sum( df_drop[ (df_drop[\"category\"] == category) & (df_drop[\"rse_id\"] == \"T0_CH_CERN_Tape\")][\"size_on_tape_[TB]\"] )\n",
    "    isum_t1 = np.sum( df_drop[ (df_drop[\"category\"] == category) & (df_drop[\"rse_id\"] != \"T0_CH_CERN_Tape\")][\"size_on_tape_[TB]\"] )\n",
    "    print( \"%30s : %12.1f | %12.1f | %12.1f\" % ( category, isum_t0, isum_t1, isum_t0 + isum_t1 ) )\n",
    "print(delim)\n",
    "sum_t0 = np.sum( df_drop[(df_drop[\"rse_id\"] == \"T0_CH_CERN_Tape\")][\"size_on_tape_[TB]\"] )\n",
    "sum_t1 = np.sum( df_drop[(df_drop[\"rse_id\"] != \"T0_CH_CERN_Tape\")][\"size_on_tape_[TB]\"] )\n",
    "print( \"%30s : %12.1f | %12.1f | %12.1f\" % ( \"Total\", sum_t0, sum_t1, sum_t0 + sum_t1 ) )    "
   ]
  },
  {
   "cell_type": "code",
   "execution_count": 33,
   "id": "0cdf0f6e",
   "metadata": {},
   "outputs": [],
   "source": [
    "dropping_sorted = df_drop.sort_values(by=\"size_on_tape_[TB]\", ascending=False)\n",
    "dropping_sorted_values = dropping_sorted[\"dataset\"]"
   ]
  },
  {
   "cell_type": "code",
   "execution_count": 34,
   "id": "993c3d2b",
   "metadata": {},
   "outputs": [],
   "source": [
    "df_drop.to_csv(\"dropping_sorted_fall2022.csv\")"
   ]
  },
  {
   "cell_type": "code",
   "execution_count": 35,
   "id": "35f5c9be",
   "metadata": {
    "scrolled": false
   },
   "outputs": [
    {
     "data": {
      "text/html": [
       "<div>\n",
       "<style scoped>\n",
       "    .dataframe tbody tr th:only-of-type {\n",
       "        vertical-align: middle;\n",
       "    }\n",
       "\n",
       "    .dataframe tbody tr th {\n",
       "        vertical-align: top;\n",
       "    }\n",
       "\n",
       "    .dataframe thead th {\n",
       "        text-align: right;\n",
       "    }\n",
       "</style>\n",
       "<table border=\"1\" class=\"dataframe\">\n",
       "  <thead>\n",
       "    <tr style=\"text-align: right;\">\n",
       "      <th></th>\n",
       "      <th>Unnamed: 0.1</th>\n",
       "      <th>Unnamed: 0</th>\n",
       "      <th>dataset</th>\n",
       "      <th>rse_id</th>\n",
       "      <th>DTier</th>\n",
       "      <th>size_on_tape_[TB]</th>\n",
       "      <th>category</th>\n",
       "    </tr>\n",
       "  </thead>\n",
       "  <tbody>\n",
       "    <tr>\n",
       "      <th>70247</th>\n",
       "      <td>101845</td>\n",
       "      <td>101845</td>\n",
       "      <td>/PMSSM_set_2_LL_2_TuneCP2_13TeV-pythia8/RunIIF...</td>\n",
       "      <td>T1_RU_JINR_Tape</td>\n",
       "      <td>AODSIM</td>\n",
       "      <td>340.05288</td>\n",
       "      <td>Run 2 pre-legacy MC</td>\n",
       "    </tr>\n",
       "    <tr>\n",
       "      <th>7</th>\n",
       "      <td>8</td>\n",
       "      <td>8</td>\n",
       "      <td>/PMSSM_set_2_prompt_2_TuneCP2_13TeV-pythia8/Ru...</td>\n",
       "      <td>T0_CH_CERN_Tape</td>\n",
       "      <td>AODSIM</td>\n",
       "      <td>330.96930</td>\n",
       "      <td>Run 2 pre-legacy MC</td>\n",
       "    </tr>\n",
       "    <tr>\n",
       "      <th>25371</th>\n",
       "      <td>35918</td>\n",
       "      <td>35918</td>\n",
       "      <td>/PMSSM_set_2_LL_1_TuneCP2_13TeV-pythia8/RunIIF...</td>\n",
       "      <td>T1_DE_KIT_Tape</td>\n",
       "      <td>AODSIM</td>\n",
       "      <td>314.78499</td>\n",
       "      <td>Run 2 pre-legacy MC</td>\n",
       "    </tr>\n",
       "    <tr>\n",
       "      <th>87406</th>\n",
       "      <td>125154</td>\n",
       "      <td>125154</td>\n",
       "      <td>/PMSSM_set_2_prompt_1_TuneCP2_13TeV-pythia8/Ru...</td>\n",
       "      <td>T1_US_FNAL_Tape</td>\n",
       "      <td>AODSIM</td>\n",
       "      <td>308.53333</td>\n",
       "      <td>Run 2 pre-legacy MC</td>\n",
       "    </tr>\n",
       "    <tr>\n",
       "      <th>87410</th>\n",
       "      <td>125161</td>\n",
       "      <td>125161</td>\n",
       "      <td>/QCD_Pt-15to7000_TuneCP5_Flat2017_13TeV_pythia...</td>\n",
       "      <td>T1_US_FNAL_Tape</td>\n",
       "      <td>GEN-SIM-RECO</td>\n",
       "      <td>278.70214</td>\n",
       "      <td>Run 2 pre-legacy MC</td>\n",
       "    </tr>\n",
       "    <tr>\n",
       "      <th>...</th>\n",
       "      <td>...</td>\n",
       "      <td>...</td>\n",
       "      <td>...</td>\n",
       "      <td>...</td>\n",
       "      <td>...</td>\n",
       "      <td>...</td>\n",
       "      <td>...</td>\n",
       "    </tr>\n",
       "    <tr>\n",
       "      <th>87387</th>\n",
       "      <td>125045</td>\n",
       "      <td>125045</td>\n",
       "      <td>/HighMultiplicityEOF/Run2016B-07Aug17_ver1-v1/AOD</td>\n",
       "      <td>T1_UK_RAL_Tape</td>\n",
       "      <td>AOD</td>\n",
       "      <td>0.00000</td>\n",
       "      <td>Run 2 pre-legacy data</td>\n",
       "    </tr>\n",
       "    <tr>\n",
       "      <th>87358</th>\n",
       "      <td>124856</td>\n",
       "      <td>124856</td>\n",
       "      <td>/HLTPhysics4/Run2018A-06Jun2018-v1/AOD</td>\n",
       "      <td>T1_UK_RAL_Tape</td>\n",
       "      <td>AOD</td>\n",
       "      <td>0.00000</td>\n",
       "      <td>Run 2 pre-legacy data</td>\n",
       "    </tr>\n",
       "    <tr>\n",
       "      <th>87355</th>\n",
       "      <td>124837</td>\n",
       "      <td>124837</td>\n",
       "      <td>/HighMultiplicity85EOF/Run2016B-18Apr2017_ver1...</td>\n",
       "      <td>T1_UK_RAL_Tape</td>\n",
       "      <td>AOD</td>\n",
       "      <td>0.00000</td>\n",
       "      <td>Run 2 pre-legacy data</td>\n",
       "    </tr>\n",
       "    <tr>\n",
       "      <th>70169</th>\n",
       "      <td>101252</td>\n",
       "      <td>101252</td>\n",
       "      <td>/HLTPhysics3/Run2018A-06Jun2018-v1/AOD</td>\n",
       "      <td>T1_IT_CNAF_Tape</td>\n",
       "      <td>AOD</td>\n",
       "      <td>0.00000</td>\n",
       "      <td>Run 2 pre-legacy data</td>\n",
       "    </tr>\n",
       "    <tr>\n",
       "      <th>118209</th>\n",
       "      <td>180581</td>\n",
       "      <td>180581</td>\n",
       "      <td>/HighMultiplicity85EOF/Run2016B-23Sep2016-v2/AOD</td>\n",
       "      <td>T1_US_FNAL_Tape</td>\n",
       "      <td>AOD</td>\n",
       "      <td>0.00000</td>\n",
       "      <td>Run 2 pre-legacy data</td>\n",
       "    </tr>\n",
       "  </tbody>\n",
       "</table>\n",
       "<p>50090 rows × 7 columns</p>\n",
       "</div>"
      ],
      "text/plain": [
       "        Unnamed: 0.1  Unnamed: 0  \\\n",
       "70247         101845      101845   \n",
       "7                  8           8   \n",
       "25371          35918       35918   \n",
       "87406         125154      125154   \n",
       "87410         125161      125161   \n",
       "...              ...         ...   \n",
       "87387         125045      125045   \n",
       "87358         124856      124856   \n",
       "87355         124837      124837   \n",
       "70169         101252      101252   \n",
       "118209        180581      180581   \n",
       "\n",
       "                                                  dataset           rse_id  \\\n",
       "70247   /PMSSM_set_2_LL_2_TuneCP2_13TeV-pythia8/RunIIF...  T1_RU_JINR_Tape   \n",
       "7       /PMSSM_set_2_prompt_2_TuneCP2_13TeV-pythia8/Ru...  T0_CH_CERN_Tape   \n",
       "25371   /PMSSM_set_2_LL_1_TuneCP2_13TeV-pythia8/RunIIF...   T1_DE_KIT_Tape   \n",
       "87406   /PMSSM_set_2_prompt_1_TuneCP2_13TeV-pythia8/Ru...  T1_US_FNAL_Tape   \n",
       "87410   /QCD_Pt-15to7000_TuneCP5_Flat2017_13TeV_pythia...  T1_US_FNAL_Tape   \n",
       "...                                                   ...              ...   \n",
       "87387   /HighMultiplicityEOF/Run2016B-07Aug17_ver1-v1/AOD   T1_UK_RAL_Tape   \n",
       "87358              /HLTPhysics4/Run2018A-06Jun2018-v1/AOD   T1_UK_RAL_Tape   \n",
       "87355   /HighMultiplicity85EOF/Run2016B-18Apr2017_ver1...   T1_UK_RAL_Tape   \n",
       "70169              /HLTPhysics3/Run2018A-06Jun2018-v1/AOD  T1_IT_CNAF_Tape   \n",
       "118209   /HighMultiplicity85EOF/Run2016B-23Sep2016-v2/AOD  T1_US_FNAL_Tape   \n",
       "\n",
       "               DTier  size_on_tape_[TB]               category  \n",
       "70247         AODSIM          340.05288    Run 2 pre-legacy MC  \n",
       "7             AODSIM          330.96930    Run 2 pre-legacy MC  \n",
       "25371         AODSIM          314.78499    Run 2 pre-legacy MC  \n",
       "87406         AODSIM          308.53333    Run 2 pre-legacy MC  \n",
       "87410   GEN-SIM-RECO          278.70214    Run 2 pre-legacy MC  \n",
       "...              ...                ...                    ...  \n",
       "87387            AOD            0.00000  Run 2 pre-legacy data  \n",
       "87358            AOD            0.00000  Run 2 pre-legacy data  \n",
       "87355            AOD            0.00000  Run 2 pre-legacy data  \n",
       "70169            AOD            0.00000  Run 2 pre-legacy data  \n",
       "118209           AOD            0.00000  Run 2 pre-legacy data  \n",
       "\n",
       "[50090 rows x 7 columns]"
      ]
     },
     "execution_count": 35,
     "metadata": {},
     "output_type": "execute_result"
    }
   ],
   "source": [
    "dropping_sorted"
   ]
  },
  {
   "cell_type": "markdown",
   "id": "516dbf84",
   "metadata": {},
   "source": [
    "# Total to remove from T0"
   ]
  },
  {
   "cell_type": "code",
   "execution_count": 36,
   "id": "707fb20a",
   "metadata": {},
   "outputs": [
    {
     "data": {
      "text/plain": [
       "11321.754850000001"
      ]
     },
     "execution_count": 36,
     "metadata": {},
     "output_type": "execute_result"
    }
   ],
   "source": [
    "np.sum( dropping_sorted[\"size_on_tape_[TB]\"][dropping_sorted[\"rse_id\"] == \"T0_CH_CERN_Tape\"] )"
   ]
  },
  {
   "cell_type": "markdown",
   "id": "7b02badf",
   "metadata": {},
   "source": [
    "# Total to remove from T1"
   ]
  },
  {
   "cell_type": "code",
   "execution_count": 37,
   "id": "b0a8a4dc",
   "metadata": {
    "scrolled": true
   },
   "outputs": [
    {
     "data": {
      "text/plain": [
       "32903.48513"
      ]
     },
     "execution_count": 37,
     "metadata": {},
     "output_type": "execute_result"
    }
   ],
   "source": [
    "np.sum( dropping_sorted[\"size_on_tape_[TB]\"] ) - np.sum( dropping_sorted[\"size_on_tape_[TB]\"][dropping_sorted[\"rse_id\"] == \"T0_CH_CERN_Tape\"] )"
   ]
  },
  {
   "cell_type": "markdown",
   "id": "22d3b375",
   "metadata": {},
   "source": [
    "## DPOA Data"
   ]
  },
  {
   "cell_type": "code",
   "execution_count": 38,
   "id": "f1227f99",
   "metadata": {},
   "outputs": [],
   "source": [
    "vals_dpoa = keeping_sorted[\"size_on_tape_[TB]\"][keeping_sorted[\"category\"] == \"DPOA\"][keeping_sorted[\"rse_id\"] == \"T0_CH_CERN_Tape\"]"
   ]
  },
  {
   "cell_type": "code",
   "execution_count": 39,
   "id": "d053acb4",
   "metadata": {
    "scrolled": false
   },
   "outputs": [
    {
     "data": {
      "text/plain": [
       "708.48172"
      ]
     },
     "execution_count": 39,
     "metadata": {},
     "output_type": "execute_result"
    }
   ],
   "source": [
    "np.sum( vals_dpoa )"
   ]
  },
  {
   "cell_type": "code",
   "execution_count": null,
   "id": "44c2337f",
   "metadata": {},
   "outputs": [],
   "source": []
  },
  {
   "cell_type": "markdown",
   "id": "39a7f8dd",
   "metadata": {},
   "source": [
    "## Sanity check of exceptions\n",
    "\n",
    "List of exceptions should not be in the list to drop. The intersection of these sets should be empty. "
   ]
  },
  {
   "cell_type": "code",
   "execution_count": 40,
   "id": "74d46010",
   "metadata": {},
   "outputs": [
    {
     "data": {
      "text/plain": [
       "set()"
      ]
     },
     "execution_count": 40,
     "metadata": {},
     "output_type": "execute_result"
    }
   ],
   "source": [
    "set(exception_list) & set(dropping_sorted_values)"
   ]
  },
  {
   "cell_type": "code",
   "execution_count": null,
   "id": "2684529c",
   "metadata": {},
   "outputs": [],
   "source": []
  }
 ],
 "metadata": {
  "kernelspec": {
   "display_name": "Python 3 (ipykernel)",
   "language": "python",
   "name": "python3"
  },
  "language_info": {
   "codemirror_mode": {
    "name": "ipython",
    "version": 3
   },
   "file_extension": ".py",
   "mimetype": "text/x-python",
   "name": "python",
   "nbconvert_exporter": "python",
   "pygments_lexer": "ipython3",
   "version": "3.10.4"
  }
 },
 "nbformat": 4,
 "nbformat_minor": 5
}
