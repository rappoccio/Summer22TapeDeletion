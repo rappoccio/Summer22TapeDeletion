{
 "cells": [
  {
   "cell_type": "code",
   "execution_count": 1,
   "id": "2eaf0688",
   "metadata": {},
   "outputs": [],
   "source": [
    "import pandas as pd\n",
    "import numpy as np\n",
    "import copy "
   ]
  },
  {
   "cell_type": "code",
   "execution_count": 2,
   "id": "89e7dbe2",
   "metadata": {},
   "outputs": [],
   "source": [
    "df = pd.read_csv(\"Tape_Deletion_Datasets\")"
   ]
  },
  {
   "cell_type": "code",
   "execution_count": null,
   "id": "1d9675a7",
   "metadata": {},
   "outputs": [],
   "source": []
  },
  {
   "cell_type": "code",
   "execution_count": 3,
   "id": "2f6dd36d",
   "metadata": {},
   "outputs": [],
   "source": [
    "datasets = df[\"dataset\"]\n",
    "location = df[\"rse_id\"]\n",
    "tier = df[\"DTier\"]\n",
    "size_on_tape = df[\"size_on_tape_[TB]\"]"
   ]
  },
  {
   "cell_type": "code",
   "execution_count": 4,
   "id": "b9ff84b1",
   "metadata": {},
   "outputs": [],
   "source": [
    "exceptions = pd.read_csv(\"exceptions.txt\")"
   ]
  },
  {
   "cell_type": "code",
   "execution_count": 5,
   "id": "0eff76fb",
   "metadata": {},
   "outputs": [],
   "source": [
    "exception_list = exceptions[\"item\"]"
   ]
  },
  {
   "cell_type": "markdown",
   "id": "a0ec5831",
   "metadata": {},
   "source": [
    "## Total size on tape"
   ]
  },
  {
   "cell_type": "code",
   "execution_count": 6,
   "id": "554f510e",
   "metadata": {
    "scrolled": true
   },
   "outputs": [
    {
     "data": {
      "text/plain": [
       "226217.55768000003"
      ]
     },
     "execution_count": 6,
     "metadata": {},
     "output_type": "execute_result"
    }
   ],
   "source": [
    "np.sum(size_on_tape)"
   ]
  },
  {
   "cell_type": "code",
   "execution_count": 7,
   "id": "d403104c",
   "metadata": {},
   "outputs": [],
   "source": [
    "keep = np.full( np.size(datasets), False )"
   ]
  },
  {
   "cell_type": "markdown",
   "id": "8168fd69",
   "metadata": {},
   "source": [
    "## Breakdown of campaign to \"human readable\" format"
   ]
  },
  {
   "cell_type": "code",
   "execution_count": 8,
   "id": "91930ef2",
   "metadata": {},
   "outputs": [],
   "source": [
    "categories = {\n",
    "\n",
    "    \"Skims\":[\"USER\"],\n",
    "    \"Commissioning + Cosmics\":[\n",
    "       \"Commissioning08\",     \n",
    "       \"Commissioning10\",  \n",
    "       \"Commissioning11\",  \n",
    "       \"Commissioning12\",  \n",
    "       \"Commissioning2015\",\n",
    "       \"Commissioning2017\",\n",
    "       \"Commissioning2018\",\n",
    "       \"Commissioning2021\",\n",
    "       \"Commissioning2022\",\n",
    "    ],\n",
    "        \n",
    "    \"Run 3\":[\n",
    "        \"Run3Summer19DRPremix\",       \n",
    "        \"Run3Summer19DR\",  \n",
    "        \"Run3Winter20\",\n",
    "        \"Run3Winter20DRPremixMiniAOD\",\n",
    "        \"Run3Winter21DRMiniAOD\",      \n",
    "        \"Run3Summer21\",               \n",
    "        \"Run3Winter21\",               \n",
    "        \"Run3Summer21GS\",             \n",
    "        \"Run3Summer21PrePremix\",      \n",
    "        \"Run3Summer21wmLHEGS\",        \n",
    "        \"Run3Summer22\",                  \n",
    "    ],\n",
    "    \n",
    "    \"Run 2 legacy MC\":[\n",
    "        \"Summer19UL\",\n",
    "        \"Summer20UL\",\n",
    "        \"Spring21UL\",\n",
    "    ],\n",
    "    \n",
    "    \"Run 2 legacy data\":[\n",
    "        \"UL2016\",\n",
    "        \"UL2017\",\n",
    "        \"UL2018\",\n",
    "    ],\n",
    "    \n",
    "    \"Run 2 pre-legacy data\":[\n",
    "        \"23Sep2016\",\n",
    "        \"18Apr2017\",\n",
    "        \"07Aug17\",\n",
    "        \"12Sep2017\",\n",
    "        \"17Nov2017\",\n",
    "        \"09May2018\",\n",
    "        \"06Jun2018\",\n",
    "        \"17Sept2018\",\n",
    "        \"22Jan2019\",\n",
    "        \"Run2018D-PromptReco\"\n",
    "    ],\n",
    "\n",
    "    \"Run 2 pre-legacy MC\":[\n",
    "        \"RunIISpring15PrePremix\",    \n",
    "        \"RunIIFall15DR76\",           \n",
    "        \"RunIISummer16DR80\",         \n",
    "        \"RunIISummer16DR80Premix\",   \n",
    "        \"RunIIFall17GS\",             \n",
    "        \"RunIIFall17DRPremix\",       \n",
    "        \"RunIISummer17PrePremix\",    \n",
    "        \"RunIIFall17FSPremix\",       \n",
    "        \"RunIIFall17FSPrePremix\",    \n",
    "        \"RunIIFall18wmLHEGS\",        \n",
    "        \"RunIIFall18GS\",             \n",
    "        \"RunIIAutumn18DRPremix\",     \n",
    "        \"RunIIAutumn18DR\",           \n",
    "        \"RunIIAutumn18RECOBParking\", \n",
    "        \"RunIIAutumn18FSPremix\",        \n",
    "        \"RunIIWinter19PFCalib17wmLHEGS\",\n",
    "        \"RunIISpring18DRPremix\",        \n",
    "        \"RunIIFall17DRStdmix\",          \n",
    "        \"RunIISummer17DRStdmix\",        \n",
    "        \"RunIISpring18DR\",              \n",
    "        \"RunIISpring15DR74\",            \n",
    "        \"RunIISummer16FSPremix\",        \n",
    "        \"RunIISummer15wmLHEGS\",         \n",
    "        \"RunIIWinter19CosmicDR\",        \n",
    "        \"RunIIFall17wmLHEGS\",           \n",
    "        \"RunIIWinter19PFCalib16wmLHEGS\",\n",
    "        \"RunIIFall17wmLHEGENOnly\",      \n",
    "        \"RunIIWinter15GS\",              \n",
    "    ],\n",
    "    \n",
    "    \"B-Parking\":[\n",
    "        \"ParkingBPH\"\n",
    "    ],    \n",
    "    \n",
    "    \"HIN\":[\n",
    "        \"HIRun2010\", \n",
    "        \"HIRun2011\", \n",
    "        \"HIRun2013\", \n",
    "        \"HIRun2015\", \n",
    "        \"PARun2016\", \n",
    "        \"HIRun2018\", \n",
    "        \"HINPbPbAutumn18DR\",\n",
    "        \"HiWinter13\", \n",
    "        \"pPb816Summer16DR\",\n",
    "        \"HINPbPbWinter16DR\",\n",
    "        \"HiFall13DR53X\",\n",
    "        \"pAWinter13DR53X\",\n",
    "        \"XeXeRun2017\",\n",
    "        \"HIRun2013A\",\n",
    "        \"HINppWinter16DR\",\n",
    "    ],\n",
    "\n",
    "    \n",
    "    \"DPOA\":[\n",
    "        \"LowPU2010\",\n",
    "        \"Run2010\",\n",
    "        \"Run2010\",\n",
    "        \"Run2010\",\n",
    "        \"Run2011\",\n",
    "        \"Run2011\",\n",
    "        \"Run2011\",\n",
    "        \"Run2012\",\n",
    "        \"Run2012\",\n",
    "        \"Summer11\",\n",
    "        \"Summer11Leg\",\n",
    "        \"Fall11\",\n",
    "        \"Summer11LegDR\",\n",
    "        \"Summer12DR53X\",\n",
    "        \"Summer11dr53X\",\n",
    "        \"Summer12_DR53X\",\n",
    "        \"Summer12\",\n",
    "        \"Summer12\",\n",
    "        \"Summer13dr53X\",\n",
    "        \"Run2015C_25ns\",\n",
    "        \"Run2015\",\n",
    "        \"Run2015\",\n",
    "    ],\n",
    "    \n",
    "    \"Upgrades\":[\n",
    "        \"Phase2HLTTDRWinter20DIGI\", \n",
    "        \"Phase2HLTTDRSummer20ReRECOMiniAOD\",\n",
    "        \"PhaseIITDRSpring17DR\", \n",
    "        \"PhaseIIFall16DR82\",\n",
    "        \"PhaseIISummer17wmLHEGENOnly\",\n",
    "        \"GEM2019Upg14DR\",\n",
    "        \"PhaseISpring17DR\", \n",
    "        \"PhaseIFall16DR\", \n",
    "    ],\n",
    "\n",
    "    \"Unknown\":[\n",
    "        \"CMSSW_1_3_2\",\n",
    "    ],\n",
    "}\n",
    "\n"
   ]
  },
  {
   "cell_type": "markdown",
   "id": "383e646d",
   "metadata": {},
   "source": [
    "### List of all campaigns"
   ]
  },
  {
   "cell_type": "code",
   "execution_count": 9,
   "id": "ec4aaa18",
   "metadata": {},
   "outputs": [],
   "source": [
    "campaign_list = []\n",
    "\n",
    "for vals in categories.values():\n",
    "    campaign_list = campaign_list + vals"
   ]
  },
  {
   "cell_type": "markdown",
   "id": "d5fe5653",
   "metadata": {},
   "source": [
    "### Map of campaigns to the category they belong to"
   ]
  },
  {
   "cell_type": "code",
   "execution_count": 10,
   "id": "0315217c",
   "metadata": {},
   "outputs": [],
   "source": [
    "cats_map = {}\n",
    "for val in campaign_list: \n",
    "    for cat in categories:\n",
    "        if val in categories[cat]:\n",
    "            cats_map[val] = cat"
   ]
  },
  {
   "cell_type": "markdown",
   "id": "8bd959de",
   "metadata": {},
   "source": [
    "### Map of datasets to the category they belong to"
   ]
  },
  {
   "cell_type": "code",
   "execution_count": 11,
   "id": "f03cb7cf",
   "metadata": {},
   "outputs": [],
   "source": [
    "dataset_categories = []\n",
    "for dataset in datasets:\n",
    "    found = False\n",
    "    for category in categories: \n",
    "        for campaign in categories[category]:\n",
    "            if campaign in dataset and not found: \n",
    "                dataset_categories.append(category)\n",
    "                found = True\n",
    "    if not found:\n",
    "        dataset_categories.append(\"Unknown\")"
   ]
  },
  {
   "cell_type": "code",
   "execution_count": 12,
   "id": "b5b323f3",
   "metadata": {},
   "outputs": [],
   "source": [
    "df['category'] = dataset_categories"
   ]
  },
  {
   "cell_type": "code",
   "execution_count": 13,
   "id": "9888d9f0",
   "metadata": {},
   "outputs": [
    {
     "name": "stdout",
     "output_type": "stream",
     "text": [
      "                         Skims :       4063.3\n",
      "       Commissioning + Cosmics :       1476.0\n",
      "                         Run 3 :       8562.9\n",
      "               Run 2 legacy MC :      46427.0\n",
      "             Run 2 legacy data :      15986.4\n",
      "         Run 2 pre-legacy data :      13005.4\n",
      "           Run 2 pre-legacy MC :      50326.7\n",
      "                     B-Parking :       6369.3\n",
      "                           HIN :      11001.6\n",
      "                          DPOA :      12886.3\n",
      "                      Upgrades :      12661.2\n",
      "                       Unknown :      43451.3\n"
     ]
    }
   ],
   "source": [
    "for category in categories:\n",
    "    isum = np.sum( df[ df[\"category\"] == category][\"size_on_tape_[TB]\"] )\n",
    "    print( \"%30s : %12.1f\" % ( category, isum ) )"
   ]
  },
  {
   "cell_type": "markdown",
   "id": "31f46448",
   "metadata": {},
   "source": [
    "## Decide which datasets to delete and keep"
   ]
  },
  {
   "cell_type": "markdown",
   "id": "859af69b",
   "metadata": {},
   "source": [
    "#### Specific exceptions"
   ]
  },
  {
   "cell_type": "code",
   "execution_count": 14,
   "id": "22a74a1d",
   "metadata": {},
   "outputs": [],
   "source": [
    "retained1 = np.in1d(datasets, exception_list)"
   ]
  },
  {
   "cell_type": "code",
   "execution_count": 15,
   "id": "ab76868a",
   "metadata": {},
   "outputs": [],
   "source": [
    "keep = np.where( retained1 == True, True, keep )"
   ]
  },
  {
   "cell_type": "markdown",
   "id": "a16b36ae",
   "metadata": {},
   "source": [
    "#### Global exceptions"
   ]
  },
  {
   "cell_type": "code",
   "execution_count": 16,
   "id": "d3f99a5f",
   "metadata": {},
   "outputs": [],
   "source": [
    "global_exceptions = {}\n",
    "\n",
    "for campaign in campaign_list:\n",
    "    global_exceptions[campaign] = []"
   ]
  },
  {
   "cell_type": "code",
   "execution_count": 17,
   "id": "31769c55",
   "metadata": {},
   "outputs": [],
   "source": [
    "campaign_tiers_to_keep = [\n",
    "        [\"USER\", \"USER\"],                         #\n",
    "        [\"Commissioning08\", \"*\"],                 #    \n",
    "        [\"Commissioning10\", \"*\"],                 #\n",
    "        [\"Commissioning11\", \"*\"],                 #\n",
    "        [\"Commissioning12\", \"RECO\"],              #\n",
    "        [\"Commissioning2015\", \"*\"],               # \n",
    "        [\"Commissioning2017\", \"AOD\"],             #\n",
    "        [\"Commissioning2018\", \"RAW-RECO\"],        #\n",
    "        [\"Commissioning2021\", \"*\"],                # \n",
    "        [\"Commissioning2022\", \"*\"],                # \n",
    "        [\"Run3Summer19DRPremix\", \"*\"],       #\n",
    "        [\"Run3Summer19DR\", \"*\"],             #\n",
    "        [\"Run3Winter20\", \"*\"],\n",
    "        [\"Run3Winter20DRPremixMiniAOD\", \"AODSIM\"],#\n",
    "        [\"Run3Winter21DRMiniAOD\", \"AODSIM\"],       # \n",
    "        [\"Run3Summer21\", \"*\"],                    #\n",
    "        [\"Run3Winter21\", \"*\"],                    #\n",
    "        [\"Run3Summer21GS\", \"*\"],                  #\n",
    "        [\"Run3Summer21PrePremix\", \"*\"],           #\n",
    "        [\"Run3Summer21wmLHEGS\", \"GEN-SIM\"],       #\n",
    "        [\"Run3Summer22\", \"*\"],                    #    \n",
    "        [\"Summer20UL\", \"*\"],                       # \n",
    "        [\"Spring21UL\", \"*\"],                       # \n",
    "        [\"UL2016\", \"*\"],                           # \n",
    "        [\"UL2017\", \"*\"],                           # \n",
    "        [\"UL2018\", \"*\"],                           #\n",
    "        [\"23Sep2016\", \"AOD\"], \n",
    "        [\"18Apr2017\", \"AOD\"], \n",
    "        [\"07Aug17\", \"AOD\"], \n",
    "        [\"12Sep2017\", \"AOD\"], \n",
    "        [\"17Nov2017\", \"AOD\"], \n",
    "        [\"09May2018\", \"AOD\"], \n",
    "        [\"06Jun2018\", \"AOD\"], \n",
    "        [\"17Sept2018\", \"AOD\"], \n",
    "        [\"22Jan2019\", \"AOD\"], \n",
    "        [\"Run2018D-PromptReco\", \"AOD\"], \n",
    "        [\"Run2018D-PromptReco\", \"AOD\"],    \n",
    "        [\"RunIISpring15PrePremix\", \"*\"],     #\n",
    "        [\"RunIIFall15DR76\", \"AODSIM\"],            #\n",
    "        [\"RunIISummer16DR80\", \"AODSIM\"],          #     \n",
    "        [\"RunIISummer16DR80Premix\", \"*\"],     #\n",
    "        [\"RunIIFall17GS\", \"*\"],                   #\n",
    "        [\"RunIIFall17DRPremix\", \"*\"],         # \n",
    "        [\"RunIISummer17PrePremix\", \"*\"],      #\n",
    "        [\"RunIIFall17FSPremix\", \"*\"],             #\n",
    "        [\"RunIIFall17FSPrePremix\", \"*\"],          #\n",
    "        [\"RunIIFall18wmLHEGS\", \"*\"],              #\n",
    "        [\"RunIIFall18GS\", \"*\"],                   #\n",
    "        [\"RunIIAutumn18DRPremix\", \"*\"],      # \n",
    "        [\"RunIIAutumn18DR\", \"AODSIM\"],            #\n",
    "        [\"RunIIAutumn18RECOBParking\", \"AODSIM\"],  #\n",
    "        [\"RunIIAutumn18FSPremix\", \"*\"],      #\n",
    "        [\"RunIIWinter19PFCalib17wmLHEGS\", \"LHE\"], #\n",
    "        [\"RunIISpring18DRPremix\", \"*\"],      #\n",
    "        [\"RunIIFall17DRStdmix\", \"*\"],        #\n",
    "        [\"RunIISummer17DRStdmix\", \"*\"],      #\n",
    "        [\"RunIISpring18DR\", \"AODSIM\"],            #\n",
    "        [\"RunIISpring15DR74\", \"AODSIM\"],          #\n",
    "        [\"RunIISummer16FSPremix\", \"*\"],      #\n",
    "        [\"RunIISummer15wmLHEGS\", \"LHE\"],          #\n",
    "        [\"RunIIWinter19CosmicDR\", \"*\"],           #\n",
    "        [\"RunIIFall17wmLHEGS\", \"LHE\"],            #    \n",
    "        [\"RunIIWinter19PFCalib16wmLHEGS\", \"*\"],   #\n",
    "        [\"RunIIFall17wmLHEGENOnly\", \"LHE\"],       #\n",
    "        [\"RunIIWinter15GS\", \"GEN-SIM\"],           #\n",
    "        [\"ParkingBPH\", \"AOD\"],                     # \n",
    "        [\"HIRun2010\", \"RECO\"],                    # \n",
    "        [\"HIRun2011\", \"AOD\"],                     #\n",
    "        [\"HIRun2013\", \"AOD\"],                     #\n",
    "        [\"HIRun2015\", \"AOD\"],                     #\n",
    "        [\"PARun2016\", \"AOD\"],                     #\n",
    "        [\"HIRun2018\", \"AOD\"],                     #\n",
    "        [\"HINPbPbAutumn18DR\", \"AODSIM\"],          # \n",
    "        [\"HiWinter13\", \"AODSIM\"],                 #\n",
    "        [\"pPb816Summer16DR\", \"AODSIM\"],           #\n",
    "        [\"HINPbPbWinter16DR\", \"AODSIM\"],          #\n",
    "        [\"HiFall13DR53X\", \"GEN-SIM-RECO\"],        #    \n",
    "        [\"pAWinter13DR53X\", \"GEN-SIM-RECO\"],      #\n",
    "        [\"XeXeRun2017\", \"*\"],                     #\n",
    "        [\"HIRun2013A\", \"RECO\"],                   #\n",
    "        [\"HINppWinter16DR\", \"AODSIM\"],            #\n",
    "        [\"LowPU2010\", \"GEN-SIM\"],                 #\n",
    "        [\"Run2010\", \"AOD\"],                       # DPOA\n",
    "        [\"Run2010\", \"RAW-RECO\"],                  # Keep cosmics\n",
    "        [\"Run2010\", \"RECO\"],                      # Keep cosmics\n",
    "        [\"Run2011\", \"AOD\"],                       #\n",
    "        [\"Run2011\", \"RAW-RECO\"],                  #\n",
    "        [\"Run2011\", \"RECO\"],                      #    \n",
    "        [\"Run2012\", \"AOD\"],                       # DPOA\n",
    "        [\"Run2012\", \"RAW-RECO\"],                  # Cosmics\n",
    "        [\"Summer11\", \"AODSIM\"],                   #\n",
    "        [\"Summer11Leg\", \"GEN-SIM\"],               #\n",
    "        [\"Fall11\", \"AODSIM\"],                     #    \n",
    "        [\"Summer11LegDR\", \"AODSIM\"],              #     \n",
    "        [\"Summer12DR53X\", \"AODSIM\"],              #\n",
    "        [\"Summer11dr53X\", \"AODSIM\"],              #\n",
    "        [\"Summer12_DR53X\", \"*\"],                  #     \n",
    "        [\"Summer12\", \"AODSIM\"],                   #\n",
    "        [\"Summer12\", \"GEN-SIM\"],                  # \n",
    "        [\"Summer13dr53X\", \"AODSIM\"],              #\n",
    "        [\"Run2015C_25ns\", \"*\"],                   #    \n",
    "        [\"Run2015\", \"AOD\"],                       # DPOA\n",
    "        [\"Run2015\", \"RAW-RECO\"],                  # Cosmics\n",
    "        [\"Phase2HLTTDRWinter20DIGI\", \"*\"],        # Requested by TSG    \n",
    "        [\"Phase2HLTTDRSummer20ReRECOMiniAOD\", \"*\"], #\n",
    "        [\"PhaseIITDRSpring17DR\", \"AOD\"],          #\n",
    "        [\"PhaseIIFall16DR82\", \"AODSIM\"],          #\n",
    "        [\"PhaseIISummer17wmLHEGENOnly\", \"LHE\"],   # \n",
    "        [\"GEM2019Upg14DR\", \"AODSIM\"],             #\n",
    "        [\"PhaseISpring17DR\", \"AODSIM\"],           # \n",
    "        [\"PhaseIFall16DR\", \"AODSIM\"],             #\n",
    "        [\"CMSSW_1_3_2\", \"RECO\"],                  # What is this?\n",
    "        ]"
   ]
  },
  {
   "cell_type": "code",
   "execution_count": 18,
   "id": "8c3a4c72",
   "metadata": {},
   "outputs": [],
   "source": [
    "for ipair in campaign_tiers_to_keep :\n",
    "    if ipair[1] not in global_exceptions[ipair[0]]:\n",
    "        global_exceptions[ipair[0]].append(ipair[1])"
   ]
  },
  {
   "cell_type": "code",
   "execution_count": 19,
   "id": "f744b7cb",
   "metadata": {},
   "outputs": [],
   "source": [
    "datasets_strings = datasets.to_numpy(dtype=\"str\")\n",
    "tier_strings = tier.to_numpy(dtype=\"str\")"
   ]
  },
  {
   "cell_type": "markdown",
   "id": "2bae77a8",
   "metadata": {},
   "source": [
    "### Go through all data tiers in the global exception list and keep those requested. "
   ]
  },
  {
   "cell_type": "code",
   "execution_count": 20,
   "id": "dfe2d262",
   "metadata": {},
   "outputs": [],
   "source": [
    "for icampaign,itiers in global_exceptions.items():\n",
    "    if \"*\" in itiers: \n",
    "        keep = np.where((np.core.defchararray.find(datasets_strings, icampaign) == -1),keep, True)\n",
    "    else: \n",
    "        for itier in itiers: \n",
    "            found_campaign_in_dataset = (np.core.defchararray.find(datasets_strings, icampaign) != -1)\n",
    "            tier_should_be_kept = np.where(tier == itier, True, False)\n",
    "            keep = np.where(found_campaign_in_dataset & tier_should_be_kept,\n",
    "                True, \n",
    "                keep)"
   ]
  },
  {
   "cell_type": "markdown",
   "id": "c6674707",
   "metadata": {},
   "source": [
    "# Current size breakdown"
   ]
  },
  {
   "cell_type": "code",
   "execution_count": 21,
   "id": "1f23ac56",
   "metadata": {
    "scrolled": true
   },
   "outputs": [
    {
     "name": "stdout",
     "output_type": "stream",
     "text": [
      "Total size               :     226217.6\n",
      "Total size to keep       :     143707.6\n",
      "Total size to delete     :      82509.9\n"
     ]
    }
   ],
   "source": [
    "print('Total size               : %12.1f' % np.sum(size_on_tape))\n",
    "print('Total size to keep       : %12.1f' % np.sum(size_on_tape[keep]))\n",
    "print('Total size to delete     : %12.1f' % np.sum(size_on_tape[keep == False]))"
   ]
  },
  {
   "cell_type": "code",
   "execution_count": 22,
   "id": "ea39b9df",
   "metadata": {},
   "outputs": [],
   "source": [
    "datasets_kept = datasets[keep]\n",
    "datasets_categories_kept = np.full_like(datasets_kept, \"\")\n",
    "size_on_tape_kept = size_on_tape[keep]"
   ]
  },
  {
   "cell_type": "code",
   "execution_count": 23,
   "id": "f16d21b1",
   "metadata": {
    "scrolled": true
   },
   "outputs": [
    {
     "data": {
      "text/plain": [
       "143707.63999"
      ]
     },
     "execution_count": 23,
     "metadata": {},
     "output_type": "execute_result"
    }
   ],
   "source": [
    "np.sum(size_on_tape_kept)"
   ]
  },
  {
   "cell_type": "markdown",
   "id": "93248b73",
   "metadata": {},
   "source": [
    "## Invalid exceptions"
   ]
  },
  {
   "cell_type": "code",
   "execution_count": 24,
   "id": "b327d3f3",
   "metadata": {},
   "outputs": [],
   "source": [
    "exception_valid = np.in1d(exception_list, datasets[keep == True])\n",
    "exception_names = exception_list[exception_valid == False]"
   ]
  },
  {
   "cell_type": "markdown",
   "id": "f79d196c",
   "metadata": {},
   "source": [
    "### Exceptions that don't seem to be on tape.\n",
    "\n",
    "These are going to be safe and off of the \"to delete\" list, but just in case people are curious. "
   ]
  },
  {
   "cell_type": "code",
   "execution_count": 25,
   "id": "06ffdd86",
   "metadata": {
    "scrolled": true
   },
   "outputs": [
    {
     "name": "stdout",
     "output_type": "stream",
     "text": [
      "/JPsiToMuMu_5p02TeV_PbPb_NoHiMix_Incoherent_STARlight/HINPbPbAutumn18GS-103X_upgrade2018_realistic_HI_v11-v1/GEN-SIM\n",
      "/JPsiToMuMu_OnOn_5p02TeV_PbPb_NoHiMix_Coherent_STARlight/HINPbPbAutumn18GS-103X_upgrade2018_realistic_HI_v11-v1/GEN-SIM\n",
      "/HidjetQuenchedMinBias/Summer12-STARTHI44_V12-v5/GEN-SIM\n",
      "/SingleMuon/Run2016D-SiPixelCalSingleMuon-21Feb2020_UL2016_HIPM_WMass-v2/ALCARECO\n",
      "/SingleMuon/Run2016H-SiPixelCalSingleMuon-21Feb2020_UL2016_WMass-v2/ALCARECO\n",
      "/SingleMuon/Run2016H-SiPixelCalSingleMuon-21Feb2020_UL2016_WMass-v3/ALCARECO\n",
      "/StreamExpress/Run2018A-TkAlMinBias-Express-v1/ALCARECO\n",
      "/StreamExpress/Run2018B-TkAlMinBias-Express-v1/ALCARECO\n",
      "/StreamExpress/Run2018C-TkAlMinBias-Express-v1/ALCARECO\n",
      "/StreamExpress/Run2018D-TkAlMinBias-Express-v1/ALCARECO\n",
      "/Cosmics/Commissioning2021-TkAlCosmics0T-CRUZETmkFit-v1/ALCARECO\n",
      "/Cosmics/Commissioning2022-TkAlCosmics0T-PromptReco-v1/ALCARECO\n",
      "/AlCaLumiPixels/Run2018B-AlCaPCCZeroBias-PromptReco-v3/ALCARECO\n",
      "/AlCaLumiPixels/Run2018E-AlCaPCCZeroBias-PromptReco-v2/ALCARECO\n",
      "/Cosmics/Commissioning2022-SiStripCalCosmics-PromptReco-v1/ALCARECO\n",
      "/SMS-T1qqqq-LLChipm_ctau-10cm_mGl-1800_mLSP-1400_TuneCP5_13p6TeV-madgraphMLM-pythia8/Run3Winter22DR-PUForTRK_DIGI_122X_mcRun3_2021_realistic_v9-v2/AODSIM\n",
      "/SMS-T1qqqq-LLChipm_ctau-10cm_mGl-1800_mLSP-1400_TuneCP5_13p6TeV-madgraphMLM-pythia8/Run3Winter22DR-PUForTRK_longlived_122X_mcRun3_2021_realistic_v9-v2/AODSIM\n",
      "/SMS-T1qqqq-LLChipm_ctau-200_mLSP-1100_TuneCUETP8M1_13TeV-madgraphMLM-pythia8/RunIISummer16DR80Premix-PUMoriond17_longlived_80X_mcRun2_asymptotic_2016_TrancheIV_v6-v2/AODSIM\n"
     ]
    }
   ],
   "source": [
    "for i in exception_names: \n",
    "    if \"*\" not in i : \n",
    "        print(i)"
   ]
  },
  {
   "cell_type": "markdown",
   "id": "161226bd",
   "metadata": {},
   "source": [
    "# Make formatted lists to keep and drop"
   ]
  },
  {
   "cell_type": "code",
   "execution_count": 26,
   "id": "ee238821",
   "metadata": {},
   "outputs": [],
   "source": [
    "df_keep = df[keep == True]\n",
    "df_drop = df[keep == False]"
   ]
  },
  {
   "cell_type": "markdown",
   "id": "0ace814e",
   "metadata": {},
   "source": [
    "# Keep list"
   ]
  },
  {
   "cell_type": "code",
   "execution_count": 27,
   "id": "6fd19319",
   "metadata": {},
   "outputs": [
    {
     "name": "stdout",
     "output_type": "stream",
     "text": [
      "                         Skims :       4063.3\n",
      "       Commissioning + Cosmics :        629.1\n",
      "                         Run 3 :       8562.9\n",
      "               Run 2 legacy MC :      25080.6\n",
      "             Run 2 legacy data :      15986.4\n",
      "         Run 2 pre-legacy data :       8492.8\n",
      "           Run 2 pre-legacy MC :      46373.9\n",
      "                     B-Parking :       3765.2\n",
      "                           HIN :       9919.7\n",
      "                          DPOA :      11700.8\n",
      "                      Upgrades :       7921.1\n",
      "                       Unknown :       1211.9\n"
     ]
    }
   ],
   "source": [
    "for category in categories:\n",
    "    isum = np.sum( df_keep[ df_keep[\"category\"] == category][\"size_on_tape_[TB]\"] )\n",
    "    print( \"%30s : %12.1f\" % ( category, isum ) )"
   ]
  },
  {
   "cell_type": "code",
   "execution_count": 28,
   "id": "d8ffd2c7",
   "metadata": {},
   "outputs": [],
   "source": [
    "keeping_sorted = df_keep.sort_values(by=\"size_on_tape_[TB]\", ascending=False)"
   ]
  },
  {
   "cell_type": "code",
   "execution_count": 29,
   "id": "6687c305",
   "metadata": {},
   "outputs": [
    {
     "data": {
      "text/plain": [
       "0         /Neutrino_E-10_gun/RunIISummer17PrePremix-PUFu...\n",
       "125145    /Neutrino_E-10_gun/RunIISummer17PrePremix-PUAu...\n",
       "109480    /Neutrino_E-10_gun/RunIISummer20ULPrePremix-UL...\n",
       "35912     /Neutrino_E-10_gun/RunIISummer17PrePremix-MCv2...\n",
       "109481    /Neutrino_E-10_gun/RunIISummer17PrePremix-MCv2...\n",
       "                                ...                        \n",
       "109477    /MinimumBias/XeXeRun2017-SiStripCalMinBias-Pro...\n",
       "76388     /T_t-channel_TuneZ2star_8TeV-powheg-tauola/Sum...\n",
       "124649    /HSCPmchamp3_M-900_TuneZ2star_8TeV-pythia6/Sum...\n",
       "124671    /HTo2LongLivedTo2B2Mu_TripleMuEnrichedPt3_MH-1...\n",
       "180597    /HTMHT/Run2015A-LogErrorMonitor-27Jan2016-v1/USER\n",
       "Name: dataset, Length: 117704, dtype: object"
      ]
     },
     "execution_count": 29,
     "metadata": {},
     "output_type": "execute_result"
    }
   ],
   "source": [
    "keeping_sorted.get(\"dataset\", \"size_on_tape_[TB]\")"
   ]
  },
  {
   "cell_type": "code",
   "execution_count": 30,
   "id": "a938b04c",
   "metadata": {},
   "outputs": [],
   "source": [
    "df_keep.to_csv(\"keeping_sorted.csv\")"
   ]
  },
  {
   "cell_type": "markdown",
   "id": "a433868e",
   "metadata": {},
   "source": [
    "# Drop list"
   ]
  },
  {
   "cell_type": "code",
   "execution_count": 31,
   "id": "aba1fd92",
   "metadata": {
    "scrolled": true
   },
   "outputs": [
    {
     "name": "stdout",
     "output_type": "stream",
     "text": [
      "                         Skims :          0.0\n",
      "       Commissioning + Cosmics :        846.9\n",
      "                         Run 3 :          0.0\n",
      "               Run 2 legacy MC :      21346.4\n",
      "             Run 2 legacy data :          0.0\n",
      "         Run 2 pre-legacy data :       4512.7\n",
      "           Run 2 pre-legacy MC :       3952.8\n",
      "                     B-Parking :       2604.1\n",
      "                           HIN :       1081.9\n",
      "                          DPOA :       1185.6\n",
      "                      Upgrades :       4740.2\n",
      "                       Unknown :      42239.4\n"
     ]
    }
   ],
   "source": [
    "for category in categories:\n",
    "    isum = np.sum( df_drop[ df_drop[\"category\"] == category][\"size_on_tape_[TB]\"] )\n",
    "    print( \"%30s : %12.1f\" % ( category, isum ) )"
   ]
  },
  {
   "cell_type": "code",
   "execution_count": 32,
   "id": "081b40b9",
   "metadata": {},
   "outputs": [],
   "source": [
    "dropping_sorted = df_drop.sort_values(by=\"size_on_tape_[TB]\", ascending=False)\n",
    "dropping_sorted_values = dropping_sorted[\"dataset\"]"
   ]
  },
  {
   "cell_type": "code",
   "execution_count": 33,
   "id": "195432fa",
   "metadata": {},
   "outputs": [],
   "source": [
    "df_drop.to_csv(\"dropping_sorted.csv\")"
   ]
  }
 ],
 "metadata": {
  "kernelspec": {
   "display_name": "Python 3 (ipykernel)",
   "language": "python",
   "name": "python3"
  },
  "language_info": {
   "codemirror_mode": {
    "name": "ipython",
    "version": 3
   },
   "file_extension": ".py",
   "mimetype": "text/x-python",
   "name": "python",
   "nbconvert_exporter": "python",
   "pygments_lexer": "ipython3",
   "version": "3.8.5"
  }
 },
 "nbformat": 4,
 "nbformat_minor": 5
}
